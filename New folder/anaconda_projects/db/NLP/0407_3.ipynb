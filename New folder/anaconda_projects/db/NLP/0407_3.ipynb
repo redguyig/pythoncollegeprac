{
 "cells": [
  {
   "cell_type": "code",
   "execution_count": null,
   "id": "ac883fd0",
   "metadata": {},
   "outputs": [],
   "source": [
    "import  streamlit as st \n",
    "import deep_translator as GoogleTranslator\n",
    "import speech_recognition as sr \n",
    "from gtts import gTTS\n",
    "import os \n",
    " \n",
    "recog=sr.Recognizer()\n",
    "with sr.Microphone() as source:\n",
    "    er1=\"audio not recognizable\"\n",
    "    recog.adjust_for_ambient_noise(source=source)\n",
    "    print(\"Start speaking now\")\n",
    "    audio=recog.listen(source,timeout=3,phrase_time_limit=5)\n",
    "    try:\n",
    "        text=recog.recognize_google(audio)\n",
    "        # print(\"your text is:\",text)\n",
    "    except sr.UnknownValueError:\n",
    "        print(er1)\n",
    "    except sr.WaitTimeoutError:\n",
    "        print(\"Timout: Didn't get audio input\")\n",
    "\n",
    "\n",
    "\n",
    "\n",
    "st.set_page_config(page_title=\"Language Translator\",layout = 'centered')\n",
    "st.title(\"Language Translator\")\n",
    "\n",
    "\n",
    "\n"
   ]
  }
 ],
 "metadata": {
  "language_info": {
   "name": "python"
  }
 },
 "nbformat": 4,
 "nbformat_minor": 5
}
