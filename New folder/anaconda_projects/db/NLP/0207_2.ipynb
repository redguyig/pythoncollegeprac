{
 "cells": [
  {
   "cell_type": "markdown",
   "id": "efc72241",
   "metadata": {},
   "source": [
    "NLP=NLU+NLG"
   ]
  },
  {
   "cell_type": "code",
   "execution_count": null,
   "id": "56bda647",
   "metadata": {},
   "outputs": [],
   "source": [
    "!pip install ipykernel\n"
   ]
  },
  {
   "cell_type": "code",
   "execution_count": null,
   "id": "6b2b02ab",
   "metadata": {},
   "outputs": [],
   "source": [
    "#normalization\n",
    "#refers to removal of useless things to make info retrieval better\n"
   ]
  },
  {
   "cell_type": "markdown",
   "id": "db45d366",
   "metadata": {},
   "source": [
    "### Stemming \n"
   ]
  },
  {
   "cell_type": "markdown",
   "id": "8ff8b26f",
   "metadata": {},
   "source": [
    "In NLP, stemming is a text normalization technique that reduces words to their root form, called a stem, by removing inflectional endings\n"
   ]
  },
  {
   "cell_type": "code",
   "execution_count": 3,
   "id": "bf915f84",
   "metadata": {},
   "outputs": [
    {
     "name": "stdout",
     "output_type": "stream",
     "text": [
      "Original words: ['running', 'jumps', 'happily', 'running', 'happily']\n",
      "Stemmed words: ['run', 'jump', 'happili', 'run', 'happili']\n"
     ]
    }
   ],
   "source": [
    "from nltk.stem import PorterStemmer\n",
    "\n",
    "# Create a Porter Stemmer instance\n",
    "porter_stemmer = PorterStemmer()\n",
    "\n",
    "# Example words for stemming\n",
    "words = [\"running\", \"jumps\", \"happily\", \"running\", \"happily\"]\n",
    "\n",
    "# Apply stemming to each word\n",
    "stemmed_words = [porter_stemmer.stem(word) for word in words]   #used a nested for loop to reduce no. of lines this also refers to list comprehension \n",
    "\n",
    "\n",
    "\n",
    "# Print the results\n",
    "print(\"Original words:\", words)\n",
    "print(\"Stemmed words:\", stemmed_words)"
   ]
  },
  {
   "cell_type": "code",
   "execution_count": null,
   "id": "380ad1bd",
   "metadata": {},
   "outputs": [],
   "source": []
  }
 ],
 "metadata": {
  "kernelspec": {
   "display_name": "base",
   "language": "python",
   "name": "python3"
  },
  "language_info": {
   "codemirror_mode": {
    "name": "ipython",
    "version": 3
   },
   "file_extension": ".py",
   "mimetype": "text/x-python",
   "name": "python",
   "nbconvert_exporter": "python",
   "pygments_lexer": "ipython3",
   "version": "3.13.5"
  }
 },
 "nbformat": 4,
 "nbformat_minor": 5
}
