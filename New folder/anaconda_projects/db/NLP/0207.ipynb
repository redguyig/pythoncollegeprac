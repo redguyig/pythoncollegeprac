{
 "cells": [
  {
   "cell_type": "code",
   "execution_count": 2,
   "id": "c29d3630",
   "metadata": {},
   "outputs": [
    {
     "data": {
      "text/plain": [
       "{'af': 'Afrikaans',\n",
       " 'am': 'Amharic',\n",
       " 'ar': 'Arabic',\n",
       " 'bg': 'Bulgarian',\n",
       " 'bn': 'Bengali',\n",
       " 'bs': 'Bosnian',\n",
       " 'ca': 'Catalan',\n",
       " 'cs': 'Czech',\n",
       " 'cy': 'Welsh',\n",
       " 'da': 'Danish',\n",
       " 'de': 'German',\n",
       " 'el': 'Greek',\n",
       " 'en': 'English',\n",
       " 'es': 'Spanish',\n",
       " 'et': 'Estonian',\n",
       " 'eu': 'Basque',\n",
       " 'fi': 'Finnish',\n",
       " 'fr': 'French',\n",
       " 'fr-CA': 'French (Canada)',\n",
       " 'gl': 'Galician',\n",
       " 'gu': 'Gujarati',\n",
       " 'ha': 'Hausa',\n",
       " 'hi': 'Hindi',\n",
       " 'hr': 'Croatian',\n",
       " 'hu': 'Hungarian',\n",
       " 'id': 'Indonesian',\n",
       " 'is': 'Icelandic',\n",
       " 'it': 'Italian',\n",
       " 'iw': 'Hebrew',\n",
       " 'ja': 'Japanese',\n",
       " 'jw': 'Javanese',\n",
       " 'km': 'Khmer',\n",
       " 'kn': 'Kannada',\n",
       " 'ko': 'Korean',\n",
       " 'la': 'Latin',\n",
       " 'lt': 'Lithuanian',\n",
       " 'lv': 'Latvian',\n",
       " 'ml': 'Malayalam',\n",
       " 'mr': 'Marathi',\n",
       " 'ms': 'Malay',\n",
       " 'my': 'Myanmar (Burmese)',\n",
       " 'ne': 'Nepali',\n",
       " 'nl': 'Dutch',\n",
       " 'no': 'Norwegian',\n",
       " 'pa': 'Punjabi (Gurmukhi)',\n",
       " 'pl': 'Polish',\n",
       " 'pt': 'Portuguese (Brazil)',\n",
       " 'pt-PT': 'Portuguese (Portugal)',\n",
       " 'ro': 'Romanian',\n",
       " 'ru': 'Russian',\n",
       " 'si': 'Sinhala',\n",
       " 'sk': 'Slovak',\n",
       " 'sq': 'Albanian',\n",
       " 'sr': 'Serbian',\n",
       " 'su': 'Sundanese',\n",
       " 'sv': 'Swedish',\n",
       " 'sw': 'Swahili',\n",
       " 'ta': 'Tamil',\n",
       " 'te': 'Telugu',\n",
       " 'th': 'Thai',\n",
       " 'tl': 'Filipino',\n",
       " 'tr': 'Turkish',\n",
       " 'uk': 'Ukrainian',\n",
       " 'ur': 'Urdu',\n",
       " 'vi': 'Vietnamese',\n",
       " 'yue': 'Cantonese',\n",
       " 'zh-CN': 'Chinese (Simplified)',\n",
       " 'zh-TW': 'Chinese (Mandarin/Taiwan)',\n",
       " 'zh': 'Chinese (Mandarin)'}"
      ]
     },
     "execution_count": 2,
     "metadata": {},
     "output_type": "execute_result"
    }
   ],
   "source": [
    "import gtts\n",
    "from gtts import gTTS\n",
    "import os \n",
    "languages=gtts.lang.tts_langs()\n",
    "languages"
   ]
  },
  {
   "cell_type": "code",
   "execution_count": 3,
   "id": "7adf7564",
   "metadata": {},
   "outputs": [],
   "source": [
    "text=\"New Person, Same Old Mistakes\"\n",
    "import os\n",
    "from gtts import gTTS\n",
    "def text_to_speech(text,lang):\n",
    "   obj=gTTS(text=text,lang=lang)\n",
    "   obj.save(\"x.mp3\")\n",
    "   os.system(\"x.mp3\")\n",
    "x=\"New Person, Same Old Mistakes\"\n",
    "text_to_speech(x,'en')"
   ]
  },
  {
   "cell_type": "code",
   "execution_count": null,
   "id": "00533072",
   "metadata": {},
   "outputs": [],
   "source": []
  }
 ],
 "metadata": {
  "kernelspec": {
   "display_name": "base",
   "language": "python",
   "name": "python3"
  },
  "language_info": {
   "codemirror_mode": {
    "name": "ipython",
    "version": 3
   },
   "file_extension": ".py",
   "mimetype": "text/x-python",
   "name": "python",
   "nbconvert_exporter": "python",
   "pygments_lexer": "ipython3",
   "version": "3.13.5"
  }
 },
 "nbformat": 4,
 "nbformat_minor": 5
}
