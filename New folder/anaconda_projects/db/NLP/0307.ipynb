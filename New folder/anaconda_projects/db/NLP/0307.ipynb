{
 "cells": [
  {
   "cell_type": "markdown",
   "id": "1504a802",
   "metadata": {},
   "source": [
    "Stemming is a faster, rule-based method that chops off word endings, while lemmatization is a more sophisticated, dictionary-based approach that considers the word's context and part of speech to produce a valid root word"
   ]
  },
  {
   "cell_type": "markdown",
   "id": "e16935c0",
   "metadata": {},
   "source": [
    "### Removing Prefix "
   ]
  },
  {
   "cell_type": "code",
   "execution_count": 1,
   "id": "bdd354de",
   "metadata": {},
   "outputs": [
    {
     "data": {
      "text/plain": [
       "'able'"
      ]
     },
     "execution_count": 1,
     "metadata": {},
     "output_type": "execute_result"
    }
   ],
   "source": [
    "pre=\"unable\"\n",
    "pre.removeprefix(\"un\")"
   ]
  },
  {
   "cell_type": "code",
   "execution_count": null,
   "id": "1850f84e",
   "metadata": {},
   "outputs": [
    {
     "name": "stdout",
     "output_type": "stream",
     "text": [
      "['unhappy', 'unlock', 'undo', 'spell', 'understand', 'place', 'comfortable', 'edible', 'understandable']\n"
     ]
    }
   ],
   "source": [
    "new=['unhappy','unlock','undo','misspell','misunderstand','misplace','comfortable','edible','understandable']\n",
    "list=[]\n",
    "for i in new:\n",
    "    list.append(i.removeprefix(\"un\" or \"mis\"))\n",
    "print(list)"
   ]
  },
  {
   "cell_type": "code",
   "execution_count": 8,
   "id": "93d1f169",
   "metadata": {},
   "outputs": [
    {
     "name": "stdout",
     "output_type": "stream",
     "text": [
      "[11, 'happy', 1, 'unhappy', 2, 'unhappy', 3, 12, 'lock', 4, 'unlock', 5, 'unlock', 6, 13, 'do', 7, 'undo', 8, 'undo', 9, 14, 'misspell', 10, 'spell', 11, 'spell', 12, 15, 'misderstand', 13, 'understand', 14, 'understand', 15, 16, 'misplace', 16, 'place', 17, 'place', 18, 17, 'comfortable', 19, 'comfortable', 20, 'comfortable', 21, 18, 'edible', 22, 'edible', 23, 'edible', 24, 19, 'derstandable', 25, 'understandable', 26, 'understandable', 27]\n",
      "['unhappy', 'unlock', 'undo', 'misspell', 'misunderstand', 'misplace', 'comfortable', 'edible', 'understandable']\n"
     ]
    }
   ],
   "source": [
    "p=['un','mis','mis']\n",
    "c=0\n",
    "d=10\n",
    "counter=[]\n",
    "import re \n",
    "list1=[]\n",
    "list2=[]\n",
    "\n",
    "for word in new:\n",
    "    d+=1\n",
    "    list1.append(d)\n",
    "    counter.append(word)\n",
    "    for i in range(len(p)):\n",
    "        w=re.sub(p[i],'',word)\n",
    "        list1.append(w)\n",
    "        c+=1\n",
    "        list1.append(c)\n",
    "print(list1)\n",
    "print(counter)\n",
    "\n",
    "\n",
    "\n"
   ]
  },
  {
   "cell_type": "code",
   "execution_count": 12,
   "id": "e54f58af",
   "metadata": {},
   "outputs": [],
   "source": [
    "# se={'un','mis','dis'}\n",
    "# new=['unhappy','unlock','undo','misspell','misunderstand','misplace','comfortable','edible','understandable']\n",
    "# v=''\n",
    "# for i in new:\n",
    "#     if not i.startswith():\n",
    "#         v+=i+\" \"\n",
    "# v"
   ]
  },
  {
   "cell_type": "code",
   "execution_count": 13,
   "id": "c4b9f1eb",
   "metadata": {},
   "outputs": [
    {
     "name": "stdout",
     "output_type": "stream",
     "text": [
      "in a recent survey, 1,234 participants were asked about their favorite programming languages. responses varied widely; some preferred python, others c++ or java. many commented, 'it's really gr8 to learn new stuff!!!' while others expressed frustrations, saying 'i can't believe how complex it can b sometimes :(' the study, conducted in '24, found that approximately 75% of respondents use multiple languages. we are aiming to publish the full report by q3 2025\n"
     ]
    }
   ],
   "source": [
    "text='''In a recent survey, 1,234 participants were asked about their favorite programming languages. Responses varied widely; some preferred PyThon, others C++ or JaVa. Many commented, 'It's really gr8 to learn new stuff!!!' while others expressed frustrations, saying 'I can't believe how complex it can b sometimes :(' The study, conducted in '24, found that approximately 75% of respondents use multiple languages. We are aiming to publish the full report by Q3 2025'''\n",
    "same_case=text.lower()\n",
    "no_space=re.sub(r\"\\s\",' ',same_case)\n",
    "print(no_space)\n",
    "no_space=no_space.strip()"
   ]
  },
  {
   "cell_type": "code",
   "execution_count": 14,
   "id": "e66e6ddb",
   "metadata": {},
   "outputs": [
    {
     "data": {
      "text/plain": [
       "\"in a recent survey, , participants were asked about their favorite programming languages. responses varied widely; some preferred python, others c++ or java. many commented, 'it's really gr to learn new stuff!!!' while others expressed frustrations, saying 'i can't believe how complex it can b sometimes :(' the study, conducted in ', found that approximately % of respondents use multiple languages. we are aiming to publish the full report by q \""
      ]
     },
     "execution_count": 14,
     "metadata": {},
     "output_type": "execute_result"
    }
   ],
   "source": [
    "no_digit=re.sub(r\"\\d+\",\"\",no_space)\n",
    "no_digit"
   ]
  },
  {
   "cell_type": "code",
   "execution_count": 15,
   "id": "46e41bd5",
   "metadata": {},
   "outputs": [],
   "source": [
    "no_punc=re.sub(r'[^\\w\\s]','',no_digit)     # here the ^ makes it so that it means that except the mentioned \\w(words) and \\s(whitespaces) it will subtract "
   ]
  },
  {
   "cell_type": "code",
   "execution_count": 16,
   "id": "4083d685",
   "metadata": {},
   "outputs": [
    {
     "data": {
      "text/plain": [
       "'in a recent survey  participants were asked about their favorite programming languages responses varied widely some preferred python others c or java many commented its really gr to learn new stuff while others expressed frustrations saying i cant believe how complex it can b sometimes  the study conducted in  found that approximately  of respondents use multiple languages we are aiming to publish the full report by q '"
      ]
     },
     "execution_count": 16,
     "metadata": {},
     "output_type": "execute_result"
    }
   ],
   "source": [
    "no_punc"
   ]
  },
  {
   "cell_type": "code",
   "execution_count": 17,
   "id": "67e28184",
   "metadata": {},
   "outputs": [],
   "source": [
    "# token=re.split('',no_punc)\n",
    "token1=no_punc.split(\" \")"
   ]
  },
  {
   "cell_type": "code",
   "execution_count": 18,
   "id": "efdcda23",
   "metadata": {},
   "outputs": [
    {
     "data": {
      "text/plain": [
       "['in',\n",
       " 'a',\n",
       " 'recent',\n",
       " 'survey',\n",
       " '',\n",
       " 'participants',\n",
       " 'were',\n",
       " 'asked',\n",
       " 'about',\n",
       " 'their',\n",
       " 'favorite',\n",
       " 'programming',\n",
       " 'languages',\n",
       " 'responses',\n",
       " 'varied',\n",
       " 'widely',\n",
       " 'some',\n",
       " 'preferred',\n",
       " 'python',\n",
       " 'others',\n",
       " 'c',\n",
       " 'or',\n",
       " 'java',\n",
       " 'many',\n",
       " 'commented',\n",
       " 'its',\n",
       " 'really',\n",
       " 'gr',\n",
       " 'to',\n",
       " 'learn',\n",
       " 'new',\n",
       " 'stuff',\n",
       " 'while',\n",
       " 'others',\n",
       " 'expressed',\n",
       " 'frustrations',\n",
       " 'saying',\n",
       " 'i',\n",
       " 'cant',\n",
       " 'believe',\n",
       " 'how',\n",
       " 'complex',\n",
       " 'it',\n",
       " 'can',\n",
       " 'b',\n",
       " 'sometimes',\n",
       " '',\n",
       " 'the',\n",
       " 'study',\n",
       " 'conducted',\n",
       " 'in',\n",
       " '',\n",
       " 'found',\n",
       " 'that',\n",
       " 'approximately',\n",
       " '',\n",
       " 'of',\n",
       " 'respondents',\n",
       " 'use',\n",
       " 'multiple',\n",
       " 'languages',\n",
       " 'we',\n",
       " 'are',\n",
       " 'aiming',\n",
       " 'to',\n",
       " 'publish',\n",
       " 'the',\n",
       " 'full',\n",
       " 'report',\n",
       " 'by',\n",
       " 'q',\n",
       " '']"
      ]
     },
     "execution_count": 18,
     "metadata": {},
     "output_type": "execute_result"
    }
   ],
   "source": [
    "token1"
   ]
  },
  {
   "cell_type": "code",
   "execution_count": 19,
   "id": "ba61e3ff",
   "metadata": {},
   "outputs": [],
   "source": [
    "from nltk.stem import SnowballStemmer"
   ]
  },
  {
   "cell_type": "code",
   "execution_count": 20,
   "id": "dd8296ef",
   "metadata": {},
   "outputs": [],
   "source": [
    "snow=SnowballStemmer(\"english\")"
   ]
  },
  {
   "cell_type": "code",
   "execution_count": 21,
   "id": "b59c018f",
   "metadata": {},
   "outputs": [],
   "source": [
    "stemmed=[]\n",
    "for word in token1:\n",
    "    stemmed.append(snow.stem(word))"
   ]
  },
  {
   "cell_type": "code",
   "execution_count": 22,
   "id": "0ddccc34",
   "metadata": {},
   "outputs": [
    {
     "name": "stderr",
     "output_type": "stream",
     "text": [
      "[nltk_data] Downloading package stopwords to C:\\Users\\Vaibhav\n",
      "[nltk_data]     Kathait\\AppData\\Roaming\\nltk_data...\n",
      "[nltk_data]   Package stopwords is already up-to-date!\n"
     ]
    },
    {
     "data": {
      "text/plain": [
       "True"
      ]
     },
     "execution_count": 22,
     "metadata": {},
     "output_type": "execute_result"
    }
   ],
   "source": [
    "import nltk\n",
    "nltk.download(\"stopwords\")"
   ]
  },
  {
   "cell_type": "code",
   "execution_count": 23,
   "id": "3777b640",
   "metadata": {},
   "outputs": [],
   "source": [
    "from nltk.corpus import stopwords"
   ]
  },
  {
   "cell_type": "code",
   "execution_count": 24,
   "id": "1cde8420",
   "metadata": {},
   "outputs": [],
   "source": [
    "stop=set(stopwords.words(\"english\"))"
   ]
  },
  {
   "cell_type": "code",
   "execution_count": 25,
   "id": "b0feafd3",
   "metadata": {},
   "outputs": [
    {
     "data": {
      "text/plain": [
       "{'a',\n",
       " 'about',\n",
       " 'above',\n",
       " 'after',\n",
       " 'again',\n",
       " 'against',\n",
       " 'ain',\n",
       " 'all',\n",
       " 'am',\n",
       " 'an',\n",
       " 'and',\n",
       " 'any',\n",
       " 'are',\n",
       " 'aren',\n",
       " \"aren't\",\n",
       " 'as',\n",
       " 'at',\n",
       " 'be',\n",
       " 'because',\n",
       " 'been',\n",
       " 'before',\n",
       " 'being',\n",
       " 'below',\n",
       " 'between',\n",
       " 'both',\n",
       " 'but',\n",
       " 'by',\n",
       " 'can',\n",
       " 'couldn',\n",
       " \"couldn't\",\n",
       " 'd',\n",
       " 'did',\n",
       " 'didn',\n",
       " \"didn't\",\n",
       " 'do',\n",
       " 'does',\n",
       " 'doesn',\n",
       " \"doesn't\",\n",
       " 'doing',\n",
       " 'don',\n",
       " \"don't\",\n",
       " 'down',\n",
       " 'during',\n",
       " 'each',\n",
       " 'few',\n",
       " 'for',\n",
       " 'from',\n",
       " 'further',\n",
       " 'had',\n",
       " 'hadn',\n",
       " \"hadn't\",\n",
       " 'has',\n",
       " 'hasn',\n",
       " \"hasn't\",\n",
       " 'have',\n",
       " 'haven',\n",
       " \"haven't\",\n",
       " 'having',\n",
       " 'he',\n",
       " \"he'd\",\n",
       " \"he'll\",\n",
       " \"he's\",\n",
       " 'her',\n",
       " 'here',\n",
       " 'hers',\n",
       " 'herself',\n",
       " 'him',\n",
       " 'himself',\n",
       " 'his',\n",
       " 'how',\n",
       " 'i',\n",
       " \"i'd\",\n",
       " \"i'll\",\n",
       " \"i'm\",\n",
       " \"i've\",\n",
       " 'if',\n",
       " 'in',\n",
       " 'into',\n",
       " 'is',\n",
       " 'isn',\n",
       " \"isn't\",\n",
       " 'it',\n",
       " \"it'd\",\n",
       " \"it'll\",\n",
       " \"it's\",\n",
       " 'its',\n",
       " 'itself',\n",
       " 'just',\n",
       " 'll',\n",
       " 'm',\n",
       " 'ma',\n",
       " 'me',\n",
       " 'mightn',\n",
       " \"mightn't\",\n",
       " 'more',\n",
       " 'most',\n",
       " 'mustn',\n",
       " \"mustn't\",\n",
       " 'my',\n",
       " 'myself',\n",
       " 'needn',\n",
       " \"needn't\",\n",
       " 'no',\n",
       " 'nor',\n",
       " 'not',\n",
       " 'now',\n",
       " 'o',\n",
       " 'of',\n",
       " 'off',\n",
       " 'on',\n",
       " 'once',\n",
       " 'only',\n",
       " 'or',\n",
       " 'other',\n",
       " 'our',\n",
       " 'ours',\n",
       " 'ourselves',\n",
       " 'out',\n",
       " 'over',\n",
       " 'own',\n",
       " 're',\n",
       " 's',\n",
       " 'same',\n",
       " 'shan',\n",
       " \"shan't\",\n",
       " 'she',\n",
       " \"she'd\",\n",
       " \"she'll\",\n",
       " \"she's\",\n",
       " 'should',\n",
       " \"should've\",\n",
       " 'shouldn',\n",
       " \"shouldn't\",\n",
       " 'so',\n",
       " 'some',\n",
       " 'such',\n",
       " 't',\n",
       " 'than',\n",
       " 'that',\n",
       " \"that'll\",\n",
       " 'the',\n",
       " 'their',\n",
       " 'theirs',\n",
       " 'them',\n",
       " 'themselves',\n",
       " 'then',\n",
       " 'there',\n",
       " 'these',\n",
       " 'they',\n",
       " \"they'd\",\n",
       " \"they'll\",\n",
       " \"they're\",\n",
       " \"they've\",\n",
       " 'this',\n",
       " 'those',\n",
       " 'through',\n",
       " 'to',\n",
       " 'too',\n",
       " 'under',\n",
       " 'until',\n",
       " 'up',\n",
       " 've',\n",
       " 'very',\n",
       " 'was',\n",
       " 'wasn',\n",
       " \"wasn't\",\n",
       " 'we',\n",
       " \"we'd\",\n",
       " \"we'll\",\n",
       " \"we're\",\n",
       " \"we've\",\n",
       " 'were',\n",
       " 'weren',\n",
       " \"weren't\",\n",
       " 'what',\n",
       " 'when',\n",
       " 'where',\n",
       " 'which',\n",
       " 'while',\n",
       " 'who',\n",
       " 'whom',\n",
       " 'why',\n",
       " 'will',\n",
       " 'with',\n",
       " 'won',\n",
       " \"won't\",\n",
       " 'wouldn',\n",
       " \"wouldn't\",\n",
       " 'y',\n",
       " 'you',\n",
       " \"you'd\",\n",
       " \"you'll\",\n",
       " \"you're\",\n",
       " \"you've\",\n",
       " 'your',\n",
       " 'yours',\n",
       " 'yourself',\n",
       " 'yourselves'}"
      ]
     },
     "execution_count": 25,
     "metadata": {},
     "output_type": "execute_result"
    }
   ],
   "source": [
    "stop"
   ]
  },
  {
   "cell_type": "code",
   "execution_count": null,
   "id": "aca11f9a",
   "metadata": {},
   "outputs": [
    {
     "data": {
      "text/plain": [
       "'recent survey  participants asked favorite programming languages responses varied widely preferred python others c java many commented really gr learn new stuff others expressed frustrations saying cant believe complex b sometimes  study conducted  found approximately  respondents use multiple languages aiming publish full report q  '"
      ]
     },
     "execution_count": 28,
     "metadata": {},
     "output_type": "execute_result"
    }
   ],
   "source": [
    "no_stop=\"\"\n",
    "for word in token1:\n",
    "    if not word in stop:\n",
    "        no_stop+=word+' '\n",
    "no_stop\n"
   ]
  },
  {
   "cell_type": "code",
   "execution_count": null,
   "id": "a860eb5f",
   "metadata": {},
   "outputs": [],
   "source": []
  }
 ],
 "metadata": {
  "kernelspec": {
   "display_name": "base",
   "language": "python",
   "name": "python3"
  },
  "language_info": {
   "codemirror_mode": {
    "name": "ipython",
    "version": 3
   },
   "file_extension": ".py",
   "mimetype": "text/x-python",
   "name": "python",
   "nbconvert_exporter": "python",
   "pygments_lexer": "ipython3",
   "version": "3.13.5"
  }
 },
 "nbformat": 4,
 "nbformat_minor": 5
}
