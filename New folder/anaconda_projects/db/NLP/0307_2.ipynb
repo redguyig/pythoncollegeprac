{
 "cells": [
  {
   "cell_type": "code",
   "execution_count": 1,
   "id": "536024bf-0753-4052-8925-a1ed99f56df6",
   "metadata": {},
   "outputs": [
    {
     "name": "stdout",
     "output_type": "stream",
     "text": [
      "Requirement already satisfied: translate in d:\\anaconda\\lib\\site-packages (3.6.1)\n",
      "Requirement already satisfied: click in d:\\anaconda\\lib\\site-packages (from translate) (8.1.7)\n",
      "Requirement already satisfied: lxml in d:\\anaconda\\lib\\site-packages (from translate) (5.2.1)\n",
      "Requirement already satisfied: requests in d:\\anaconda\\lib\\site-packages (from translate) (2.32.2)\n",
      "Requirement already satisfied: libretranslatepy==2.1.1 in d:\\anaconda\\lib\\site-packages (from translate) (2.1.1)\n",
      "Requirement already satisfied: colorama in d:\\anaconda\\lib\\site-packages (from click->translate) (0.4.6)\n",
      "Requirement already satisfied: charset-normalizer<4,>=2 in d:\\anaconda\\lib\\site-packages (from requests->translate) (2.0.4)\n",
      "Requirement already satisfied: idna<4,>=2.5 in d:\\anaconda\\lib\\site-packages (from requests->translate) (3.7)\n",
      "Requirement already satisfied: urllib3<3,>=1.21.1 in d:\\anaconda\\lib\\site-packages (from requests->translate) (2.2.2)\n",
      "Requirement already satisfied: certifi>=2017.4.17 in d:\\anaconda\\lib\\site-packages (from requests->translate) (2025.6.15)\n"
     ]
    }
   ],
   "source": [
    "!pip install translate"
   ]
  },
  {
   "cell_type": "code",
   "execution_count": 2,
   "id": "582b360f-4a15-4e6a-bc82-57b8f35dc6af",
   "metadata": {},
   "outputs": [],
   "source": [
    "from translate import Translator"
   ]
  },
  {
   "cell_type": "code",
   "execution_count": 10,
   "id": "37e5d3fa-678b-40ae-9daf-9071f71e4048",
   "metadata": {},
   "outputs": [
    {
     "data": {
      "text/plain": [
       "'मैं डॉ. अखिलेश दास कॉलेज में काम कर रहा हूं'"
      ]
     },
     "execution_count": 10,
     "metadata": {},
     "output_type": "execute_result"
    }
   ],
   "source": [
    "text='ਮੈਂ ਡਾ. ਅਖਿਲੇਸ਼ ਦਾਸ ਕਾਲਜ ਵਿੱਚ ਕੰਮ ਕਰ ਰਿਹਾ ਹਾਂ'\n",
    "tst=Translator(to_lang=\"hi\",from_lang=\"pa\")    # hi, fr, en\n",
    "translated_text=tst.translate(text)\n",
    "translated_text"
   ]
  },
  {
   "cell_type": "code",
   "execution_count": 11,
   "id": "183b469e-bfa9-47b8-a768-8a054d13d53b",
   "metadata": {},
   "outputs": [
    {
     "name": "stdout",
     "output_type": "stream",
     "text": [
      "Requirement already satisfied: deep-translator in d:\\anaconda\\lib\\site-packages (1.11.4)\n",
      "Requirement already satisfied: beautifulsoup4<5.0.0,>=4.9.1 in d:\\anaconda\\lib\\site-packages (from deep-translator) (4.12.3)\n",
      "Requirement already satisfied: requests<3.0.0,>=2.23.0 in d:\\anaconda\\lib\\site-packages (from deep-translator) (2.32.2)\n",
      "Requirement already satisfied: soupsieve>1.2 in d:\\anaconda\\lib\\site-packages (from beautifulsoup4<5.0.0,>=4.9.1->deep-translator) (2.5)\n",
      "Requirement already satisfied: charset-normalizer<4,>=2 in d:\\anaconda\\lib\\site-packages (from requests<3.0.0,>=2.23.0->deep-translator) (2.0.4)\n",
      "Requirement already satisfied: idna<4,>=2.5 in d:\\anaconda\\lib\\site-packages (from requests<3.0.0,>=2.23.0->deep-translator) (3.7)\n",
      "Requirement already satisfied: urllib3<3,>=1.21.1 in d:\\anaconda\\lib\\site-packages (from requests<3.0.0,>=2.23.0->deep-translator) (2.2.2)\n",
      "Requirement already satisfied: certifi>=2017.4.17 in d:\\anaconda\\lib\\site-packages (from requests<3.0.0,>=2.23.0->deep-translator) (2025.6.15)\n"
     ]
    }
   ],
   "source": [
    "!pip install deep-translator"
   ]
  },
  {
   "cell_type": "code",
   "execution_count": 13,
   "id": "d508b339-90e4-407c-8245-eb2966ad7205",
   "metadata": {},
   "outputs": [],
   "source": [
    "from deep_translator import GoogleTranslator"
   ]
  },
  {
   "cell_type": "code",
   "execution_count": 17,
   "id": "aa468770-0961-4d8d-81c4-d11b1bbf3e9c",
   "metadata": {},
   "outputs": [
    {
     "data": {
      "text/plain": [
       "{'afrikaans': 'af',\n",
       " 'albanian': 'sq',\n",
       " 'amharic': 'am',\n",
       " 'arabic': 'ar',\n",
       " 'armenian': 'hy',\n",
       " 'assamese': 'as',\n",
       " 'aymara': 'ay',\n",
       " 'azerbaijani': 'az',\n",
       " 'bambara': 'bm',\n",
       " 'basque': 'eu',\n",
       " 'belarusian': 'be',\n",
       " 'bengali': 'bn',\n",
       " 'bhojpuri': 'bho',\n",
       " 'bosnian': 'bs',\n",
       " 'bulgarian': 'bg',\n",
       " 'catalan': 'ca',\n",
       " 'cebuano': 'ceb',\n",
       " 'chichewa': 'ny',\n",
       " 'chinese (simplified)': 'zh-CN',\n",
       " 'chinese (traditional)': 'zh-TW',\n",
       " 'corsican': 'co',\n",
       " 'croatian': 'hr',\n",
       " 'czech': 'cs',\n",
       " 'danish': 'da',\n",
       " 'dhivehi': 'dv',\n",
       " 'dogri': 'doi',\n",
       " 'dutch': 'nl',\n",
       " 'english': 'en',\n",
       " 'esperanto': 'eo',\n",
       " 'estonian': 'et',\n",
       " 'ewe': 'ee',\n",
       " 'filipino': 'tl',\n",
       " 'finnish': 'fi',\n",
       " 'french': 'fr',\n",
       " 'frisian': 'fy',\n",
       " 'galician': 'gl',\n",
       " 'georgian': 'ka',\n",
       " 'german': 'de',\n",
       " 'greek': 'el',\n",
       " 'guarani': 'gn',\n",
       " 'gujarati': 'gu',\n",
       " 'haitian creole': 'ht',\n",
       " 'hausa': 'ha',\n",
       " 'hawaiian': 'haw',\n",
       " 'hebrew': 'iw',\n",
       " 'hindi': 'hi',\n",
       " 'hmong': 'hmn',\n",
       " 'hungarian': 'hu',\n",
       " 'icelandic': 'is',\n",
       " 'igbo': 'ig',\n",
       " 'ilocano': 'ilo',\n",
       " 'indonesian': 'id',\n",
       " 'irish': 'ga',\n",
       " 'italian': 'it',\n",
       " 'japanese': 'ja',\n",
       " 'javanese': 'jw',\n",
       " 'kannada': 'kn',\n",
       " 'kazakh': 'kk',\n",
       " 'khmer': 'km',\n",
       " 'kinyarwanda': 'rw',\n",
       " 'konkani': 'gom',\n",
       " 'korean': 'ko',\n",
       " 'krio': 'kri',\n",
       " 'kurdish (kurmanji)': 'ku',\n",
       " 'kurdish (sorani)': 'ckb',\n",
       " 'kyrgyz': 'ky',\n",
       " 'lao': 'lo',\n",
       " 'latin': 'la',\n",
       " 'latvian': 'lv',\n",
       " 'lingala': 'ln',\n",
       " 'lithuanian': 'lt',\n",
       " 'luganda': 'lg',\n",
       " 'luxembourgish': 'lb',\n",
       " 'macedonian': 'mk',\n",
       " 'maithili': 'mai',\n",
       " 'malagasy': 'mg',\n",
       " 'malay': 'ms',\n",
       " 'malayalam': 'ml',\n",
       " 'maltese': 'mt',\n",
       " 'maori': 'mi',\n",
       " 'marathi': 'mr',\n",
       " 'meiteilon (manipuri)': 'mni-Mtei',\n",
       " 'mizo': 'lus',\n",
       " 'mongolian': 'mn',\n",
       " 'myanmar': 'my',\n",
       " 'nepali': 'ne',\n",
       " 'norwegian': 'no',\n",
       " 'odia (oriya)': 'or',\n",
       " 'oromo': 'om',\n",
       " 'pashto': 'ps',\n",
       " 'persian': 'fa',\n",
       " 'polish': 'pl',\n",
       " 'portuguese': 'pt',\n",
       " 'punjabi': 'pa',\n",
       " 'quechua': 'qu',\n",
       " 'romanian': 'ro',\n",
       " 'russian': 'ru',\n",
       " 'samoan': 'sm',\n",
       " 'sanskrit': 'sa',\n",
       " 'scots gaelic': 'gd',\n",
       " 'sepedi': 'nso',\n",
       " 'serbian': 'sr',\n",
       " 'sesotho': 'st',\n",
       " 'shona': 'sn',\n",
       " 'sindhi': 'sd',\n",
       " 'sinhala': 'si',\n",
       " 'slovak': 'sk',\n",
       " 'slovenian': 'sl',\n",
       " 'somali': 'so',\n",
       " 'spanish': 'es',\n",
       " 'sundanese': 'su',\n",
       " 'swahili': 'sw',\n",
       " 'swedish': 'sv',\n",
       " 'tajik': 'tg',\n",
       " 'tamil': 'ta',\n",
       " 'tatar': 'tt',\n",
       " 'telugu': 'te',\n",
       " 'thai': 'th',\n",
       " 'tigrinya': 'ti',\n",
       " 'tsonga': 'ts',\n",
       " 'turkish': 'tr',\n",
       " 'turkmen': 'tk',\n",
       " 'twi': 'ak',\n",
       " 'ukrainian': 'uk',\n",
       " 'urdu': 'ur',\n",
       " 'uyghur': 'ug',\n",
       " 'uzbek': 'uz',\n",
       " 'vietnamese': 'vi',\n",
       " 'welsh': 'cy',\n",
       " 'xhosa': 'xh',\n",
       " 'yiddish': 'yi',\n",
       " 'yoruba': 'yo',\n",
       " 'zulu': 'zu'}"
      ]
     },
     "execution_count": 17,
     "metadata": {},
     "output_type": "execute_result"
    }
   ],
   "source": [
    "GoogleTranslator().get_supported_languages(as_dict=True)"
   ]
  },
  {
   "cell_type": "code",
   "execution_count": 19,
   "id": "bd9e4d82-7911-4861-8e64-7e31936be4f4",
   "metadata": {},
   "outputs": [
    {
     "data": {
      "text/plain": [
       "'Dɛn na ɛyɛ foforo ma nnɛ?'"
      ]
     },
     "execution_count": 19,
     "metadata": {},
     "output_type": "execute_result"
    }
   ],
   "source": [
    "text=\"What's new for today?\"\n",
    "source=\"en\"\n",
    "target=\"ak\"\n",
    "tst=GoogleTranslator(source=source,target=target)\n",
    "tst_con=tst.translate(text)\n",
    "tst_con"
   ]
  },
  {
   "cell_type": "markdown",
   "id": "e130ce7a-fb16-4199-aa61-87767f50f3e4",
   "metadata": {},
   "source": [
    "!pip install streamlit"
   ]
  },
  {
   "cell_type": "code",
   "execution_count": null,
   "id": "c5817e1c-3aef-4059-a0af-bf51dff4c41c",
   "metadata": {},
   "outputs": [
    {
     "name": "stdout",
     "output_type": "stream",
     "text": [
      "Overwriting translate_application.py\n"
     ]
    }
   ],
   "source": [
    "%%writefile translate_application.py\n",
    "import streamlit as st\n",
    "from deep_translator import GoogleTranslator\n",
    "\n",
    "##Title pass\n",
    "st.set_page_config(page_title=\"Language Translator\",layout = 'centered')\n",
    "st.title(\"Language Translator\")\n",
    "\n",
    "###Input\n",
    "text=st.text_area(\"Enter your text\",height=120)\n",
    "languages=GoogleTranslator().get_supported_languages(as_dict=True)\n",
    "#logic\n",
    "lang_name= [lang.title() for lang in languages.values()]\n",
    "lang_code= {lang.title() :code for code,lang in languages.items()}\n",
    "\n",
    "default_s=lang_name.index(\"English\") if \"English\" in lang_name else 0\n",
    "default_t=lang_name.index(\"Hindi\") if \"Hindi\" in lang_name else 1\n",
    "col1,col2=st.columns(2)\n",
    "with col1:\n",
    "    s=st.selectbox(\"Source lang\",lang_name,index=default_s)\n",
    "with col2:\n",
    "    t=st.selectbox(\"Target Lang\",lang_name,index=default_t)\n",
    "\n",
    "if st.button(\"Translate\"):\n",
    "    if text.strip():\n",
    "        try:\n",
    "            translated_text=GoogleTranslator(source=lang_code[s],\n",
    "                                            target=lang_code[t]).translate(text)\n",
    "            st.success(\"Translated Text\")\n",
    "            st.text_area(\"Output\",translated_text,height=120)\n",
    "        except Exception as e:\n",
    "            print(\"Translation failed !!!\",e)\n",
    "    else:\n",
    "        st.warning(\"Please enter text to translate!!!\")\n"
   ]
  },
  {
   "cell_type": "code",
   "execution_count": null,
   "id": "bd83994e-c33d-486f-91f9-792e9c8cfd17",
   "metadata": {},
   "outputs": [],
   "source": [
    "!streamlit run translate_application.py"
   ]
  },
  {
   "cell_type": "code",
   "execution_count": null,
   "id": "1b1dc246-4699-42d1-aa1c-19479e35e61a",
   "metadata": {},
   "outputs": [],
   "source": []
  }
 ],
 "metadata": {
  "kernelspec": {
   "display_name": "base",
   "language": "python",
   "name": "python3"
  },
  "language_info": {
   "codemirror_mode": {
    "name": "ipython",
    "version": 3
   },
   "file_extension": ".py",
   "mimetype": "text/x-python",
   "name": "python",
   "nbconvert_exporter": "python",
   "pygments_lexer": "ipython3",
   "version": "3.13.5"
  }
 },
 "nbformat": 4,
 "nbformat_minor": 5
}
