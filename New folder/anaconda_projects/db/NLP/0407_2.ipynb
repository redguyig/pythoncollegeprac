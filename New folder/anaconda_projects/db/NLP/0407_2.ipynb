{
 "cells": [
  {
   "cell_type": "code",
   "execution_count": 4,
   "id": "0a1bad5d",
   "metadata": {},
   "outputs": [],
   "source": [
    "#Sentiment Analysis\n",
    "\n",
    "from textblob import TextBlob"
   ]
  },
  {
   "cell_type": "code",
   "execution_count": null,
   "id": "255d8180",
   "metadata": {},
   "outputs": [],
   "source": [
    "# !pip install textblob\n",
    "# python -m textblob.download_corpora"
   ]
  },
  {
   "cell_type": "code",
   "execution_count": 18,
   "id": "76486aa2",
   "metadata": {},
   "outputs": [
    {
     "name": "stdout",
     "output_type": "stream",
     "text": [
      "yes I am new\n",
      "[('yes', 'NNS'), ('I', 'PRP'), ('am', 'VBP'), ('new', 'JJ')]\n"
     ]
    }
   ],
   "source": [
    "##Sentence Segmentation\n",
    "text=input(\"Enter your text\")\n",
    "blob=TextBlob(text)\n",
    "sent=blob.sentences \n",
    "print(sent[0])\n",
    "correct=blob.correct()\n",
    "token=blob.split()\n",
    "token1=blob.words\n",
    "pos=blob.tags\n",
    "print(pos)"
   ]
  },
  {
   "cell_type": "code",
   "execution_count": 38,
   "id": "b7c49e76",
   "metadata": {},
   "outputs": [
    {
     "name": "stdout",
     "output_type": "stream",
     "text": [
      "=======SENTIMENT ANALYSIS\n",
      "Sentiment Negative\n",
      "Polarity -0.4\n",
      "Subjectivity 0.6\n"
     ]
    }
   ],
   "source": [
    "# ! with pip is used to install modules and stuff in the global folder \n",
    "# while % is used to download stuff to virtual environment\n",
    "\n",
    "\n",
    "# sentiment is measured in polarity i..e either -1 or 1 or 0, subjectivity - 0 and 1 \n",
    " \n",
    "text=input(\"Enter your text\")\n",
    "blob=TextBlob(text)\n",
    "pol=blob.sentiment.polarity         #-1 to 1\n",
    "\n",
    "sub=blob.sentiment.subjectivity     # 0 to 1\n",
    "\n",
    "if pol<0:\n",
    "    sentiment=\"Negative\"\n",
    "elif pol>0:\n",
    "    sentiment=\"Positive\"\n",
    "else:\n",
    "    sentiment=\"Neutral\"\n",
    "\n",
    "print(\"=======SENTIMENT ANALYSIS\")\n",
    "\n",
    "print(\"Sentiment\",sentiment)\n",
    "print(\"Polarity\",pol)\n",
    "print(\"Subjectivity\",sub)\n",
    "\n",
    "\n"
   ]
  },
  {
   "cell_type": "code",
   "execution_count": null,
   "id": "863fae3e",
   "metadata": {},
   "outputs": [],
   "source": []
  },
  {
   "cell_type": "code",
   "execution_count": null,
   "id": "16a8aa00",
   "metadata": {},
   "outputs": [],
   "source": []
  }
 ],
 "metadata": {
  "kernelspec": {
   "display_name": "base",
   "language": "python",
   "name": "python3"
  },
  "language_info": {
   "codemirror_mode": {
    "name": "ipython",
    "version": 3
   },
   "file_extension": ".py",
   "mimetype": "text/x-python",
   "name": "python",
   "nbconvert_exporter": "python",
   "pygments_lexer": "ipython3",
   "version": "3.13.5"
  }
 },
 "nbformat": 4,
 "nbformat_minor": 5
}
