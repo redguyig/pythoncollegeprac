{
 "cells": [
  {
   "cell_type": "code",
   "execution_count": 2,
   "id": "182947f8-103b-4ff7-b558-7abd09cc91ba",
   "metadata": {},
   "outputs": [],
   "source": [
    "class Parent:\n",
    "    ## Data member/ATTRIBUTE\n",
    "    a=90\n",
    "    b=\"String\"\n",
    "\n",
    "    ## Member function/Method\n",
    "    def working(s):      # mandatory parameter self/s/f/b\n",
    "        print(\"I am class's method\")\n",
    "obj=Parent() \n"
   ]
  },
  {
   "cell_type": "code",
   "execution_count": 4,
   "id": "dffae3e0-b025-43cc-bcb9-ff4f1525c480",
   "metadata": {},
   "outputs": [
    {
     "name": "stdout",
     "output_type": "stream",
     "text": [
      "I am class's method\n"
     ]
    }
   ],
   "source": [
    "obj.working()"
   ]
  },
  {
   "cell_type": "code",
   "execution_count": 8,
   "id": "07224aa1-ef6f-4fe6-83ee-673b7fa53c38",
   "metadata": {},
   "outputs": [],
   "source": [
    "l1=10"
   ]
  },
  {
   "cell_type": "code",
   "execution_count": 9,
   "id": "26b55a53-7f74-4dd1-b26c-75846ac4b09a",
   "metadata": {},
   "outputs": [
    {
     "data": {
      "text/plain": [
       "int"
      ]
     },
     "execution_count": 9,
     "metadata": {},
     "output_type": "execute_result"
    }
   ],
   "source": [
    "type(l1)"
   ]
  },
  {
   "cell_type": "markdown",
   "id": "0c984bf9-f7b2-4c13-837f-211d6b97dda0",
   "metadata": {},
   "source": [
    "### OOPs\n",
    "- classes\n",
    "- objects\n",
    "- inheritance\n",
    "- polymorphism\n",
    "- encapsulation\n",
    "- abstration\n"
   ]
  },
  {
   "cell_type": "markdown",
   "id": "e9259987-2f1d-49cb-bba0-544fe2acad04",
   "metadata": {},
   "source": [
    "## Numpy\n",
    "- vector   1-D ARRAY\n",
    "- matrix   >1-D ARRAY"
   ]
  },
  {
   "cell_type": "markdown",
   "id": "d26a03d1-037a-441e-826d-4acf4a12e5ae",
   "metadata": {},
   "source": [
    "### 1-D ARRAY"
   ]
  },
  {
   "cell_type": "code",
   "execution_count": 11,
   "id": "0d45f6b3-377d-4390-bf85-30d4d56ffbe0",
   "metadata": {},
   "outputs": [
    {
     "name": "stdout",
     "output_type": "stream",
     "text": [
      "Requirement already satisfied: numpy in d:\\anaconda\\lib\\site-packages (1.26.4)\n"
     ]
    }
   ],
   "source": [
    "!pip install numpy\n",
    "# VS Code Terminal/Pycharm/Command Prompt: pip install numpy"
   ]
  },
  {
   "cell_type": "code",
   "execution_count": 12,
   "id": "03664026-5e8f-4556-b944-969c41c7903a",
   "metadata": {},
   "outputs": [],
   "source": [
    "import numpy as np"
   ]
  },
  {
   "cell_type": "markdown",
   "id": "758efd48-bf89-4272-b1d4-05276f6e806c",
   "metadata": {},
   "source": [
    "### Methods to create an arrays \n",
    "- array()    - list,tuple\n",
    "- arange()   - create an array within a particular range\n",
    "- linspace() - provide no. of values within the range\n",
    "- ones()     - provide ones array\n",
    "- zeroes()   - provide zeroes array\n",
    "- eye()      - provide identity matrix\n",
    "- random     - rand, randint,uniform"
   ]
  },
  {
   "cell_type": "code",
   "execution_count": 24,
   "id": "e670d3eb-e32d-4cc2-8af8-0d845229b51e",
   "metadata": {},
   "outputs": [
    {
     "name": "stdout",
     "output_type": "stream",
     "text": [
      "[1.  2.  3.  4.  5.  6.9]\n"
     ]
    }
   ],
   "source": [
    "list1=[1,2,3,4,5,6.90]\n",
    "arr=np.array(list1)\n",
    "print(arr)"
   ]
  },
  {
   "cell_type": "code",
   "execution_count": 25,
   "id": "327ce117-58c6-45de-aadd-85b64ac4ebc3",
   "metadata": {},
   "outputs": [
    {
     "data": {
      "text/plain": [
       "numpy.ndarray"
      ]
     },
     "execution_count": 25,
     "metadata": {},
     "output_type": "execute_result"
    }
   ],
   "source": [
    "type(arr)"
   ]
  },
  {
   "cell_type": "code",
   "execution_count": 26,
   "id": "3099fb0f-5427-48b7-bade-b5b678c0ab8c",
   "metadata": {},
   "outputs": [
    {
     "data": {
      "text/plain": [
       "dtype('float64')"
      ]
     },
     "execution_count": 26,
     "metadata": {},
     "output_type": "execute_result"
    }
   ],
   "source": [
    "arr.dtype"
   ]
  },
  {
   "cell_type": "code",
   "execution_count": 23,
   "id": "14c143f8-2d08-4800-ac33-5ce1c6c41282",
   "metadata": {},
   "outputs": [
    {
     "name": "stdout",
     "output_type": "stream",
     "text": [
      "[67 34 23]\n"
     ]
    }
   ],
   "source": [
    "arr1=np.array((67,34,23))\n",
    "print(arr1)"
   ]
  },
  {
   "cell_type": "code",
   "execution_count": 50,
   "id": "a3174459-8f11-4de4-858e-f722ca01c7cd",
   "metadata": {},
   "outputs": [
    {
     "name": "stdout",
     "output_type": "stream",
     "text": [
      "[[1 2 3]\n",
      " [4 5 6]\n",
      " [7 8 9]]\n"
     ]
    }
   ],
   "source": [
    "list2=[[1,2,3],[4,5,6],[7,8,9]]\n",
    "arr2=np.array(list2)\n",
    "print(arr2)"
   ]
  },
  {
   "cell_type": "code",
   "execution_count": 51,
   "id": "c6850ca2-a549-4306-bdd1-fea79329e83e",
   "metadata": {},
   "outputs": [
    {
     "data": {
      "text/plain": [
       "array([1, 4, 7])"
      ]
     },
     "execution_count": 51,
     "metadata": {},
     "output_type": "execute_result"
    }
   ],
   "source": [
    "arr2[0:3,0]"
   ]
  },
  {
   "cell_type": "code",
   "execution_count": 33,
   "id": "318e5a55-af7c-4304-8eb9-fc2ff17b8c46",
   "metadata": {},
   "outputs": [
    {
     "data": {
      "text/plain": [
       "5"
      ]
     },
     "execution_count": 33,
     "metadata": {},
     "output_type": "execute_result"
    }
   ],
   "source": [
    "arr2[1][1]"
   ]
  },
  {
   "cell_type": "code",
   "execution_count": 34,
   "id": "ec4f25c1-a172-4882-930e-2507b3ae46f7",
   "metadata": {},
   "outputs": [
    {
     "data": {
      "text/plain": [
       "2"
      ]
     },
     "execution_count": 34,
     "metadata": {},
     "output_type": "execute_result"
    }
   ],
   "source": [
    "arr2.ndim    # dimentions"
   ]
  },
  {
   "cell_type": "code",
   "execution_count": 35,
   "id": "8ad2b736-a142-4f0d-9b95-6cb891ff4dd9",
   "metadata": {},
   "outputs": [
    {
     "data": {
      "text/plain": [
       "(3, 3)"
      ]
     },
     "execution_count": 35,
     "metadata": {},
     "output_type": "execute_result"
    }
   ],
   "source": [
    "arr2.shape      # rows and col"
   ]
  },
  {
   "cell_type": "code",
   "execution_count": 41,
   "id": "bf55086c-fb5a-44a2-83f9-fecf806bcfde",
   "metadata": {},
   "outputs": [
    {
     "name": "stdout",
     "output_type": "stream",
     "text": [
      "[[1 1 1 1]\n",
      " [1 1 1 1]\n",
      " [1 1 1 1]]\n"
     ]
    }
   ],
   "source": [
    "### Ones array\n",
    "arr3=np.ones((3,4),dtype='int')              # ones(row,col,dtype='int')\n",
    "print(arr3)"
   ]
  },
  {
   "cell_type": "code",
   "execution_count": 40,
   "id": "7887830a-64a1-444a-afce-a2ddacd86fb5",
   "metadata": {},
   "outputs": [
    {
     "name": "stdout",
     "output_type": "stream",
     "text": [
      "[[55 55 55 55]\n",
      " [55 55 55 55]\n",
      " [55 55 55 55]]\n"
     ]
    }
   ],
   "source": [
    "### Ones array\n",
    "arr3=np.ones((3,4),dtype='int')*55              # ones(row,col,dtype='int')\n",
    "print(arr3)"
   ]
  },
  {
   "cell_type": "code",
   "execution_count": 42,
   "id": "d6a96a12-8ae7-4bc3-ab20-c63819a30a9d",
   "metadata": {},
   "outputs": [
    {
     "name": "stdout",
     "output_type": "stream",
     "text": [
      "[[1. 1. 1. 1.]\n",
      " [1. 1. 1. 1.]\n",
      " [1. 1. 1. 1.]]\n"
     ]
    }
   ],
   "source": [
    "### Ones array\n",
    "arr3=np.ones((3,4))             # ones(row,col,dtype='int')\n",
    "print(arr3)"
   ]
  },
  {
   "cell_type": "code",
   "execution_count": 43,
   "id": "15944417-503c-45a3-a700-5e6db3a135e6",
   "metadata": {},
   "outputs": [
    {
     "name": "stdout",
     "output_type": "stream",
     "text": [
      "[[[[1 2 3]\n",
      "   [4 5 6]\n",
      "   [7 8 9]]]]\n"
     ]
    }
   ],
   "source": [
    "list2=[[[[1,2,3],[4,5,6],[7,8,9]]]]\n",
    "arr2=np.array(list2)\n",
    "print(arr2)"
   ]
  },
  {
   "cell_type": "code",
   "execution_count": 44,
   "id": "9c8e2269-7d01-46c9-8588-e1e3966c2fbd",
   "metadata": {},
   "outputs": [
    {
     "data": {
      "text/plain": [
       "4"
      ]
     },
     "execution_count": 44,
     "metadata": {},
     "output_type": "execute_result"
    }
   ],
   "source": [
    "arr2.ndim"
   ]
  },
  {
   "cell_type": "code",
   "execution_count": 49,
   "id": "62bd1995-4a4a-4805-bd1e-8a32b5bf9ecd",
   "metadata": {},
   "outputs": [
    {
     "data": {
      "text/plain": [
       "9"
      ]
     },
     "execution_count": 49,
     "metadata": {},
     "output_type": "execute_result"
    }
   ],
   "source": [
    "arr2[0][0][2][2]"
   ]
  },
  {
   "cell_type": "code",
   "execution_count": null,
   "id": "242209c1-3ca1-45b4-9fb2-c2c7f553dc5b",
   "metadata": {},
   "outputs": [],
   "source": [
    "## create an array -- identity, arange, linspace"
   ]
  },
  {
   "cell_type": "code",
   "execution_count": 52,
   "id": "c012d9f5-7fa9-420e-bdf6-a3377686f5dd",
   "metadata": {},
   "outputs": [
    {
     "name": "stdout",
     "output_type": "stream",
     "text": [
      "[[1 0 0]\n",
      " [0 1 0]\n",
      " [0 0 1]]\n"
     ]
    }
   ],
   "source": [
    "arr4=np.eye(3,3,dtype='int')\n",
    "print(arr4)"
   ]
  },
  {
   "cell_type": "code",
   "execution_count": 53,
   "id": "315c32eb-e96c-4b55-a1c9-ad8ac6faf5f1",
   "metadata": {},
   "outputs": [
    {
     "name": "stdout",
     "output_type": "stream",
     "text": [
      "[[555   0   0]\n",
      " [  0 555   0]\n",
      " [  0   0 555]]\n"
     ]
    }
   ],
   "source": [
    "arr4=np.eye(3,3,dtype='int')*555\n",
    "print(arr4)"
   ]
  },
  {
   "cell_type": "code",
   "execution_count": 57,
   "id": "ecc2ea26-0077-4fb2-9ebf-5940900e7945",
   "metadata": {},
   "outputs": [
    {
     "name": "stdout",
     "output_type": "stream",
     "text": [
      "[1 2 3 4 5 6 7 8 9]\n"
     ]
    }
   ],
   "source": [
    "arr5=np.arange(1,10)\n",
    "print(arr5)"
   ]
  },
  {
   "cell_type": "code",
   "execution_count": 58,
   "id": "4a8612b1-24d7-4d62-81d0-14f44afb323e",
   "metadata": {},
   "outputs": [
    {
     "data": {
      "text/plain": [
       "array([[1, 2, 3],\n",
       "       [4, 5, 6],\n",
       "       [7, 8, 9]])"
      ]
     },
     "execution_count": 58,
     "metadata": {},
     "output_type": "execute_result"
    }
   ],
   "source": [
    "arr5.reshape(3,3)"
   ]
  },
  {
   "cell_type": "code",
   "execution_count": 66,
   "id": "3b2cc143-4830-477a-965b-cc87470b7a27",
   "metadata": {},
   "outputs": [
    {
     "name": "stdout",
     "output_type": "stream",
     "text": [
      "[3.         3.22222222 3.44444444 3.66666667 3.88888889 4.11111111\n",
      " 4.33333333 4.55555556 4.77777778 5.        ]\n"
     ]
    }
   ],
   "source": [
    "arr6=np.linspace(3,5,10)\n",
    "print(arr6)"
   ]
  },
  {
   "cell_type": "code",
   "execution_count": 65,
   "id": "65f23e01-6a6d-4ab2-b0cb-c1e283944444",
   "metadata": {},
   "outputs": [
    {
     "data": {
      "text/plain": [
       "50"
      ]
     },
     "execution_count": 65,
     "metadata": {},
     "output_type": "execute_result"
    }
   ],
   "source": [
    "arr6.size"
   ]
  },
  {
   "cell_type": "markdown",
   "id": "23c0ba74-a0e3-4b79-a067-7ec90260d1a7",
   "metadata": {},
   "source": [
    "### Random array\n",
    "- randint              - array of random integer in a specific range\n",
    "- rand                 - array of random in bt 0-1\n",
    "- uniform              - array of random decimal no.in a specific range"
   ]
  },
  {
   "cell_type": "code",
   "execution_count": 1,
   "id": "a1a84690-3728-4b09-b42b-5b9220dfb5cb",
   "metadata": {},
   "outputs": [],
   "source": [
    "import numpy as np"
   ]
  },
  {
   "cell_type": "code",
   "execution_count": 6,
   "id": "9bdc64d3-4c08-4c7c-bb5f-81b1a9046c6d",
   "metadata": {},
   "outputs": [
    {
     "data": {
      "text/plain": [
       "2"
      ]
     },
     "execution_count": 6,
     "metadata": {},
     "output_type": "execute_result"
    }
   ],
   "source": [
    "arr6=np.random.rand(4,5)\n",
    "arr6.ndim"
   ]
  },
  {
   "cell_type": "code",
   "execution_count": 8,
   "id": "15ae01f3-070a-476e-9d85-385e0b93c431",
   "metadata": {},
   "outputs": [
    {
     "data": {
      "text/plain": [
       "3"
      ]
     },
     "execution_count": 8,
     "metadata": {},
     "output_type": "execute_result"
    }
   ],
   "source": [
    "arr7=np.random.rand(3,4,5)\n",
    "arr7.ndim"
   ]
  },
  {
   "cell_type": "code",
   "execution_count": 15,
   "id": "0564c1d0-0624-43c4-bdf6-366a2e24b8a0",
   "metadata": {},
   "outputs": [
    {
     "data": {
      "text/plain": [
       "array([[12, 23, 28, 36, 49, 47],\n",
       "       [30, 20, 39, 45, 32, 11]])"
      ]
     },
     "execution_count": 15,
     "metadata": {},
     "output_type": "execute_result"
    }
   ],
   "source": [
    "arr8=np.random.randint(10,50,size=(2,6))\n",
    "arr8"
   ]
  },
  {
   "cell_type": "code",
   "execution_count": 17,
   "id": "f56a9c91-d870-4b98-b510-2fd894da3b6c",
   "metadata": {},
   "outputs": [],
   "source": [
    "import numpy.random as rd\n",
    "from numpy import random as rd"
   ]
  },
  {
   "cell_type": "code",
   "execution_count": 18,
   "id": "39143564-6300-4abe-867a-6a5d18b4494a",
   "metadata": {},
   "outputs": [
    {
     "data": {
      "text/plain": [
       "array([[24.9520546 , 22.34309839, 24.90135222, 28.14102688],\n",
       "       [24.77522132, 25.88739212, 28.66809359, 22.92096853],\n",
       "       [27.26634655, 23.79522319, 26.56122312, 28.92649166],\n",
       "       [26.17503548, 29.36815212, 22.03154706, 27.04164206]])"
      ]
     },
     "execution_count": 18,
     "metadata": {},
     "output_type": "execute_result"
    }
   ],
   "source": [
    "arr9=rd.uniform(20,30,size=(4,4))\n",
    "arr9"
   ]
  },
  {
   "cell_type": "markdown",
   "id": "2f48c318-b7ea-4287-aae3-96bfc03d6aaa",
   "metadata": {},
   "source": [
    "### Array operations\n",
    "- sum()\n",
    "- min()\n",
    "- max()\n",
    "- sqrt()\n",
    "- mean()\n",
    "- std()\n",
    "- argmax()\n",
    "  "
   ]
  },
  {
   "cell_type": "code",
   "execution_count": 19,
   "id": "ef958bee-f4ab-428d-8656-843345c2380e",
   "metadata": {},
   "outputs": [
    {
     "name": "stdout",
     "output_type": "stream",
     "text": [
      "[[1 2 3]\n",
      " [4 5 6]\n",
      " [7 8 9]]\n"
     ]
    }
   ],
   "source": [
    "list2=[[1,2,3],[4,5,6],[7,8,9]]\n",
    "arr10=np.array(list2)\n",
    "print(arr10)"
   ]
  },
  {
   "cell_type": "code",
   "execution_count": 20,
   "id": "a9403b99-3b5d-4367-9e32-1c74543aa600",
   "metadata": {},
   "outputs": [
    {
     "data": {
      "text/plain": [
       "45"
      ]
     },
     "execution_count": 20,
     "metadata": {},
     "output_type": "execute_result"
    }
   ],
   "source": [
    "np.sum(arr10)              # arr10.sum()"
   ]
  },
  {
   "cell_type": "code",
   "execution_count": 22,
   "id": "a8bcaadd-7bf7-40f0-8c94-2c53bd6b8f96",
   "metadata": {},
   "outputs": [
    {
     "data": {
      "text/plain": [
       "array([12, 15, 18])"
      ]
     },
     "execution_count": 22,
     "metadata": {},
     "output_type": "execute_result"
    }
   ],
   "source": [
    "arr10.sum(axis=0)"
   ]
  },
  {
   "cell_type": "code",
   "execution_count": 25,
   "id": "4b8e7f6d-660c-46e6-bced-9750ca86b677",
   "metadata": {},
   "outputs": [
    {
     "data": {
      "text/plain": [
       "array([1, 2, 3])"
      ]
     },
     "execution_count": 25,
     "metadata": {},
     "output_type": "execute_result"
    }
   ],
   "source": [
    "arr10.min(axis=0)"
   ]
  },
  {
   "cell_type": "code",
   "execution_count": 28,
   "id": "b3f78c78-b754-40b9-8669-eed74ef4b55c",
   "metadata": {},
   "outputs": [
    {
     "data": {
      "text/plain": [
       "2.581988897471611"
      ]
     },
     "execution_count": 28,
     "metadata": {},
     "output_type": "execute_result"
    }
   ],
   "source": [
    "np.std(arr10)"
   ]
  },
  {
   "cell_type": "code",
   "execution_count": 31,
   "id": "3e685e97-7a5e-486a-96c8-c5550df8d867",
   "metadata": {},
   "outputs": [
    {
     "data": {
      "text/plain": [
       "array([[1.        , 1.41421356, 1.73205081],\n",
       "       [2.        , 2.23606798, 2.44948974],\n",
       "       [2.64575131, 2.82842712, 3.        ]])"
      ]
     },
     "execution_count": 31,
     "metadata": {},
     "output_type": "execute_result"
    }
   ],
   "source": [
    "# mean, sqrt\n",
    "arr10.mean()\n",
    "np.sqrt(arr10)"
   ]
  },
  {
   "cell_type": "code",
   "execution_count": 32,
   "id": "ed19762d-e674-45c7-b222-f42725e60588",
   "metadata": {},
   "outputs": [
    {
     "data": {
      "text/plain": [
       "8"
      ]
     },
     "execution_count": 32,
     "metadata": {},
     "output_type": "execute_result"
    }
   ],
   "source": [
    "arr10.argmax()"
   ]
  },
  {
   "cell_type": "markdown",
   "id": "351b40cd-e756-4ff2-a7f3-a437986a4e58",
   "metadata": {},
   "source": [
    "### Pandas\n",
    "- Seris           - 1D\n",
    "- DataFrame        - 2D"
   ]
  },
  {
   "cell_type": "markdown",
   "id": "6e7007b2-0181-4806-8c48-f7a84fba1206",
   "metadata": {},
   "source": [
    "!pip install pandas"
   ]
  },
  {
   "cell_type": "code",
   "execution_count": 33,
   "id": "71a3abc4-a187-44ed-a1d1-08ccc1a29e4c",
   "metadata": {},
   "outputs": [],
   "source": [
    "import pandas as pd"
   ]
  },
  {
   "cell_type": "code",
   "execution_count": 43,
   "id": "cb1c2ca3-8774-4bea-9636-6beabce04e53",
   "metadata": {},
   "outputs": [
    {
     "name": "stdout",
     "output_type": "stream",
     "text": [
      "0    1\n",
      "1    2\n",
      "2    3\n",
      "3    4\n",
      "4    5\n",
      "5    6\n",
      "6    7\n",
      "dtype: int64\n"
     ]
    },
    {
     "data": {
      "text/plain": [
       "pandas.core.series.Series"
      ]
     },
     "execution_count": 43,
     "metadata": {},
     "output_type": "execute_result"
    }
   ],
   "source": [
    "list1=[1,2,3,4,5,6,7]\n",
    "sr=pd.Series(list1)\n",
    "print(sr)\n",
    "type(sr)"
   ]
  },
  {
   "cell_type": "code",
   "execution_count": 41,
   "id": "ee6c520f-7328-461a-bee2-7d0a103970f4",
   "metadata": {},
   "outputs": [
    {
     "name": "stdout",
     "output_type": "stream",
     "text": [
      "   0\n",
      "0  1\n",
      "1  2\n",
      "2  3\n",
      "3  4\n",
      "4  5\n",
      "5  6\n",
      "6  7\n"
     ]
    }
   ],
   "source": [
    "df=sr.to_frame()\n",
    "print(df)"
   ]
  },
  {
   "cell_type": "code",
   "execution_count": 42,
   "id": "a1a0354c-2a50-41dd-a4a4-67b262367b44",
   "metadata": {},
   "outputs": [
    {
     "data": {
      "text/plain": [
       "pandas.core.frame.DataFrame"
      ]
     },
     "execution_count": 42,
     "metadata": {},
     "output_type": "execute_result"
    }
   ],
   "source": [
    "type(df)"
   ]
  },
  {
   "cell_type": "markdown",
   "id": "312e0204-54a0-40c8-89bc-96d19876654d",
   "metadata": {},
   "source": [
    "### Methods to create dataframe\n",
    "- List of lists\n",
    "- List of tuple\n",
    "- Tuple of tuples\n",
    "- Tuple of lists\n",
    "- List of dictionaries\n",
    "- dictionary of lists\n",
    "- read_excel()\n",
    "- read_csv()\n",
    "- read_json()\n",
    "- json_normalize\n",
    "- read_html()"
   ]
  },
  {
   "cell_type": "code",
   "execution_count": 49,
   "id": "41a30516-6960-4f5e-93e8-24ffd532ec17",
   "metadata": {},
   "outputs": [],
   "source": [
    "dict2={\n",
    "        \"Temp\":[12,34,56,21,0],\n",
    "        \"Hum\":[45,33,12,22,12],\n",
    "       \"Event\": [\"Rainy\",\"Sunny\",\"Sunny\",\"Cloudy\",\"Snow\"]\n",
    "}"
   ]
  },
  {
   "cell_type": "code",
   "execution_count": 50,
   "id": "d8ad0358-1d16-429e-86d2-6d97cd3649fe",
   "metadata": {},
   "outputs": [
    {
     "data": {
      "text/html": [
       "<div>\n",
       "<style scoped>\n",
       "    .dataframe tbody tr th:only-of-type {\n",
       "        vertical-align: middle;\n",
       "    }\n",
       "\n",
       "    .dataframe tbody tr th {\n",
       "        vertical-align: top;\n",
       "    }\n",
       "\n",
       "    .dataframe thead th {\n",
       "        text-align: right;\n",
       "    }\n",
       "</style>\n",
       "<table border=\"1\" class=\"dataframe\">\n",
       "  <thead>\n",
       "    <tr style=\"text-align: right;\">\n",
       "      <th></th>\n",
       "      <th>Temp</th>\n",
       "      <th>Hum</th>\n",
       "      <th>Event</th>\n",
       "    </tr>\n",
       "  </thead>\n",
       "  <tbody>\n",
       "    <tr>\n",
       "      <th>0</th>\n",
       "      <td>12</td>\n",
       "      <td>45</td>\n",
       "      <td>Rainy</td>\n",
       "    </tr>\n",
       "    <tr>\n",
       "      <th>1</th>\n",
       "      <td>34</td>\n",
       "      <td>33</td>\n",
       "      <td>Sunny</td>\n",
       "    </tr>\n",
       "    <tr>\n",
       "      <th>2</th>\n",
       "      <td>56</td>\n",
       "      <td>12</td>\n",
       "      <td>Sunny</td>\n",
       "    </tr>\n",
       "    <tr>\n",
       "      <th>3</th>\n",
       "      <td>21</td>\n",
       "      <td>22</td>\n",
       "      <td>Cloudy</td>\n",
       "    </tr>\n",
       "    <tr>\n",
       "      <th>4</th>\n",
       "      <td>0</td>\n",
       "      <td>12</td>\n",
       "      <td>Snow</td>\n",
       "    </tr>\n",
       "  </tbody>\n",
       "</table>\n",
       "</div>"
      ],
      "text/plain": [
       "   Temp  Hum   Event\n",
       "0    12   45   Rainy\n",
       "1    34   33   Sunny\n",
       "2    56   12   Sunny\n",
       "3    21   22  Cloudy\n",
       "4     0   12    Snow"
      ]
     },
     "execution_count": 50,
     "metadata": {},
     "output_type": "execute_result"
    }
   ],
   "source": [
    "weather=pd.DataFrame(list2)\n",
    "weather"
   ]
  },
  {
   "cell_type": "code",
   "execution_count": 51,
   "id": "c905bbbd-95ad-4e96-88e4-fdcb104527ee",
   "metadata": {},
   "outputs": [],
   "source": [
    "list2=[\n",
    "    [12,45,\"Rainy\"],\n",
    "    [34,33,\"Sunny\"]\n",
    "    \n",
    "]"
   ]
  },
  {
   "cell_type": "code",
   "execution_count": 53,
   "id": "66b923e9-7f17-4a44-9501-a38bdd3fffee",
   "metadata": {},
   "outputs": [
    {
     "data": {
      "text/html": [
       "<div>\n",
       "<style scoped>\n",
       "    .dataframe tbody tr th:only-of-type {\n",
       "        vertical-align: middle;\n",
       "    }\n",
       "\n",
       "    .dataframe tbody tr th {\n",
       "        vertical-align: top;\n",
       "    }\n",
       "\n",
       "    .dataframe thead th {\n",
       "        text-align: right;\n",
       "    }\n",
       "</style>\n",
       "<table border=\"1\" class=\"dataframe\">\n",
       "  <thead>\n",
       "    <tr style=\"text-align: right;\">\n",
       "      <th></th>\n",
       "      <th>Temp</th>\n",
       "      <th>Hum</th>\n",
       "      <th>Event</th>\n",
       "    </tr>\n",
       "  </thead>\n",
       "  <tbody>\n",
       "    <tr>\n",
       "      <th>0</th>\n",
       "      <td>12</td>\n",
       "      <td>45</td>\n",
       "      <td>Rainy</td>\n",
       "    </tr>\n",
       "    <tr>\n",
       "      <th>1</th>\n",
       "      <td>34</td>\n",
       "      <td>33</td>\n",
       "      <td>Sunny</td>\n",
       "    </tr>\n",
       "  </tbody>\n",
       "</table>\n",
       "</div>"
      ],
      "text/plain": [
       "   Temp  Hum  Event\n",
       "0    12   45  Rainy\n",
       "1    34   33  Sunny"
      ]
     },
     "execution_count": 53,
     "metadata": {},
     "output_type": "execute_result"
    }
   ],
   "source": [
    "df1=pd.DataFrame(list2,columns=[\"Temp \",\"Hum\",\"Event\"])\n",
    "df1"
   ]
  },
  {
   "cell_type": "code",
   "execution_count": 55,
   "id": "df4e46a8-c05b-43e9-80ca-239ddaa3af16",
   "metadata": {},
   "outputs": [
    {
     "name": "stdout",
     "output_type": "stream",
     "text": [
      "Collecting html5lib\n",
      "  Downloading html5lib-1.1-py2.py3-none-any.whl.metadata (16 kB)\n",
      "Requirement already satisfied: six>=1.9 in d:\\anaconda\\lib\\site-packages (from html5lib) (1.16.0)\n",
      "Requirement already satisfied: webencodings in d:\\anaconda\\lib\\site-packages (from html5lib) (0.5.1)\n",
      "Downloading html5lib-1.1-py2.py3-none-any.whl (112 kB)\n",
      "   ---------------------------------------- 0.0/112.2 kB ? eta -:--:--\n",
      "   --- ------------------------------------ 10.2/112.2 kB ? eta -:--:--\n",
      "   ---------- ----------------------------- 30.7/112.2 kB 1.3 MB/s eta 0:00:01\n",
      "   -------------------------------- ------- 92.2/112.2 kB 1.1 MB/s eta 0:00:01\n",
      "   ---------------------------------- --- 102.4/112.2 kB 980.4 kB/s eta 0:00:01\n",
      "   -------------------------------------- 112.2/112.2 kB 653.4 kB/s eta 0:00:00\n",
      "Installing collected packages: html5lib\n",
      "Successfully installed html5lib-1.1\n"
     ]
    }
   ],
   "source": [
    "!pip install html5lib"
   ]
  },
  {
   "cell_type": "code",
   "execution_count": 60,
   "id": "038241ea-60ed-45f3-b95b-42974a34311b",
   "metadata": {},
   "outputs": [],
   "source": [
    "html=pd.read_html(\"https://en.wikipedia.org/wiki/Economy_of_India\")\n",
    "df4=html[3]"
   ]
  },
  {
   "cell_type": "code",
   "execution_count": 62,
   "id": "caff5072-41be-48a9-a90b-980364ebf4bb",
   "metadata": {},
   "outputs": [],
   "source": [
    "df4.to_csv(\"economy.csv\") "
   ]
  },
  {
   "cell_type": "code",
   "execution_count": 67,
   "id": "a89c3edc-2a46-40c2-8f99-eba0573b37f1",
   "metadata": {},
   "outputs": [],
   "source": [
    "csv=pd.read_csv(\"D://Mody University/4th Sem/Notes/Practicals/Supervised ML/Salary_Data.csv\")"
   ]
  },
  {
   "cell_type": "code",
   "execution_count": 71,
   "id": "dbf43263-ab64-4d65-a12b-d1f8904715e2",
   "metadata": {},
   "outputs": [
    {
     "data": {
      "text/html": [
       "<div>\n",
       "<style scoped>\n",
       "    .dataframe tbody tr th:only-of-type {\n",
       "        vertical-align: middle;\n",
       "    }\n",
       "\n",
       "    .dataframe tbody tr th {\n",
       "        vertical-align: top;\n",
       "    }\n",
       "\n",
       "    .dataframe thead th {\n",
       "        text-align: right;\n",
       "    }\n",
       "</style>\n",
       "<table border=\"1\" class=\"dataframe\">\n",
       "  <thead>\n",
       "    <tr style=\"text-align: right;\">\n",
       "      <th></th>\n",
       "      <th>YearsExperience</th>\n",
       "      <th>Age</th>\n",
       "      <th>Salary</th>\n",
       "    </tr>\n",
       "  </thead>\n",
       "  <tbody>\n",
       "    <tr>\n",
       "      <th>0</th>\n",
       "      <td>1.1</td>\n",
       "      <td>21.0</td>\n",
       "      <td>39343</td>\n",
       "    </tr>\n",
       "    <tr>\n",
       "      <th>1</th>\n",
       "      <td>1.3</td>\n",
       "      <td>21.5</td>\n",
       "      <td>46205</td>\n",
       "    </tr>\n",
       "    <tr>\n",
       "      <th>2</th>\n",
       "      <td>1.5</td>\n",
       "      <td>21.7</td>\n",
       "      <td>37731</td>\n",
       "    </tr>\n",
       "    <tr>\n",
       "      <th>3</th>\n",
       "      <td>2.0</td>\n",
       "      <td>22.0</td>\n",
       "      <td>43525</td>\n",
       "    </tr>\n",
       "    <tr>\n",
       "      <th>4</th>\n",
       "      <td>2.2</td>\n",
       "      <td>22.2</td>\n",
       "      <td>39891</td>\n",
       "    </tr>\n",
       "    <tr>\n",
       "      <th>5</th>\n",
       "      <td>2.9</td>\n",
       "      <td>23.0</td>\n",
       "      <td>56642</td>\n",
       "    </tr>\n",
       "    <tr>\n",
       "      <th>6</th>\n",
       "      <td>3.0</td>\n",
       "      <td>23.0</td>\n",
       "      <td>60150</td>\n",
       "    </tr>\n",
       "    <tr>\n",
       "      <th>7</th>\n",
       "      <td>3.2</td>\n",
       "      <td>23.3</td>\n",
       "      <td>54445</td>\n",
       "    </tr>\n",
       "    <tr>\n",
       "      <th>8</th>\n",
       "      <td>3.2</td>\n",
       "      <td>23.3</td>\n",
       "      <td>64445</td>\n",
       "    </tr>\n",
       "    <tr>\n",
       "      <th>9</th>\n",
       "      <td>3.7</td>\n",
       "      <td>23.6</td>\n",
       "      <td>57189</td>\n",
       "    </tr>\n",
       "  </tbody>\n",
       "</table>\n",
       "</div>"
      ],
      "text/plain": [
       "   YearsExperience   Age  Salary\n",
       "0              1.1  21.0   39343\n",
       "1              1.3  21.5   46205\n",
       "2              1.5  21.7   37731\n",
       "3              2.0  22.0   43525\n",
       "4              2.2  22.2   39891\n",
       "5              2.9  23.0   56642\n",
       "6              3.0  23.0   60150\n",
       "7              3.2  23.3   54445\n",
       "8              3.2  23.3   64445\n",
       "9              3.7  23.6   57189"
      ]
     },
     "execution_count": 71,
     "metadata": {},
     "output_type": "execute_result"
    }
   ],
   "source": [
    "csv.head(10)"
   ]
  },
  {
   "cell_type": "code",
   "execution_count": 70,
   "id": "dde1716b-405c-4c88-8400-a7669f27b2d3",
   "metadata": {},
   "outputs": [
    {
     "data": {
      "text/html": [
       "<div>\n",
       "<style scoped>\n",
       "    .dataframe tbody tr th:only-of-type {\n",
       "        vertical-align: middle;\n",
       "    }\n",
       "\n",
       "    .dataframe tbody tr th {\n",
       "        vertical-align: top;\n",
       "    }\n",
       "\n",
       "    .dataframe thead th {\n",
       "        text-align: right;\n",
       "    }\n",
       "</style>\n",
       "<table border=\"1\" class=\"dataframe\">\n",
       "  <thead>\n",
       "    <tr style=\"text-align: right;\">\n",
       "      <th></th>\n",
       "      <th>YearsExperience</th>\n",
       "      <th>Age</th>\n",
       "      <th>Salary</th>\n",
       "    </tr>\n",
       "  </thead>\n",
       "  <tbody>\n",
       "    <tr>\n",
       "      <th>25</th>\n",
       "      <td>9.0</td>\n",
       "      <td>34.0</td>\n",
       "      <td>105582</td>\n",
       "    </tr>\n",
       "    <tr>\n",
       "      <th>26</th>\n",
       "      <td>9.5</td>\n",
       "      <td>35.0</td>\n",
       "      <td>116969</td>\n",
       "    </tr>\n",
       "    <tr>\n",
       "      <th>27</th>\n",
       "      <td>9.6</td>\n",
       "      <td>36.0</td>\n",
       "      <td>112635</td>\n",
       "    </tr>\n",
       "    <tr>\n",
       "      <th>28</th>\n",
       "      <td>10.3</td>\n",
       "      <td>37.0</td>\n",
       "      <td>122391</td>\n",
       "    </tr>\n",
       "    <tr>\n",
       "      <th>29</th>\n",
       "      <td>10.5</td>\n",
       "      <td>38.0</td>\n",
       "      <td>121872</td>\n",
       "    </tr>\n",
       "  </tbody>\n",
       "</table>\n",
       "</div>"
      ],
      "text/plain": [
       "    YearsExperience   Age  Salary\n",
       "25              9.0  34.0  105582\n",
       "26              9.5  35.0  116969\n",
       "27              9.6  36.0  112635\n",
       "28             10.3  37.0  122391\n",
       "29             10.5  38.0  121872"
      ]
     },
     "execution_count": 70,
     "metadata": {},
     "output_type": "execute_result"
    }
   ],
   "source": [
    "csv.tail()"
   ]
  },
  {
   "cell_type": "code",
   "execution_count": 76,
   "id": "171d84f4-3779-4dc3-acee-346a3e324a24",
   "metadata": {},
   "outputs": [],
   "source": [
    "weather.to_json(\"wth.json\")"
   ]
  },
  {
   "cell_type": "code",
   "execution_count": 77,
   "id": "15a64c93-c628-4296-a6f5-7bca209cf709",
   "metadata": {},
   "outputs": [
    {
     "data": {
      "text/html": [
       "<div>\n",
       "<style scoped>\n",
       "    .dataframe tbody tr th:only-of-type {\n",
       "        vertical-align: middle;\n",
       "    }\n",
       "\n",
       "    .dataframe tbody tr th {\n",
       "        vertical-align: top;\n",
       "    }\n",
       "\n",
       "    .dataframe thead th {\n",
       "        text-align: right;\n",
       "    }\n",
       "</style>\n",
       "<table border=\"1\" class=\"dataframe\">\n",
       "  <thead>\n",
       "    <tr style=\"text-align: right;\">\n",
       "      <th></th>\n",
       "      <th>Temp</th>\n",
       "      <th>Hum</th>\n",
       "      <th>Event</th>\n",
       "    </tr>\n",
       "  </thead>\n",
       "  <tbody>\n",
       "    <tr>\n",
       "      <th>0</th>\n",
       "      <td>12</td>\n",
       "      <td>45</td>\n",
       "      <td>Rainy</td>\n",
       "    </tr>\n",
       "    <tr>\n",
       "      <th>1</th>\n",
       "      <td>34</td>\n",
       "      <td>33</td>\n",
       "      <td>Sunny</td>\n",
       "    </tr>\n",
       "    <tr>\n",
       "      <th>2</th>\n",
       "      <td>56</td>\n",
       "      <td>12</td>\n",
       "      <td>Sunny</td>\n",
       "    </tr>\n",
       "    <tr>\n",
       "      <th>3</th>\n",
       "      <td>21</td>\n",
       "      <td>22</td>\n",
       "      <td>Cloudy</td>\n",
       "    </tr>\n",
       "    <tr>\n",
       "      <th>4</th>\n",
       "      <td>0</td>\n",
       "      <td>12</td>\n",
       "      <td>Snow</td>\n",
       "    </tr>\n",
       "  </tbody>\n",
       "</table>\n",
       "</div>"
      ],
      "text/plain": [
       "   Temp  Hum   Event\n",
       "0    12   45   Rainy\n",
       "1    34   33   Sunny\n",
       "2    56   12   Sunny\n",
       "3    21   22  Cloudy\n",
       "4     0   12    Snow"
      ]
     },
     "execution_count": 77,
     "metadata": {},
     "output_type": "execute_result"
    }
   ],
   "source": [
    "jdata=pd.read_json(\"wth.json\")\n",
    "jdata"
   ]
  },
  {
   "cell_type": "code",
   "execution_count": 78,
   "id": "d0b6fd57-77ed-435e-b749-abbe177e4823",
   "metadata": {},
   "outputs": [
    {
     "data": {
      "text/plain": [
       "0     Rainy\n",
       "1     Sunny\n",
       "2     Sunny\n",
       "3    Cloudy\n",
       "4      Snow\n",
       "Name: Event, dtype: object"
      ]
     },
     "execution_count": 78,
     "metadata": {},
     "output_type": "execute_result"
    }
   ],
   "source": [
    "jdata[\"Event\"]"
   ]
  },
  {
   "cell_type": "code",
   "execution_count": 79,
   "id": "23569815-a290-4186-8fb3-9515c579b213",
   "metadata": {},
   "outputs": [
    {
     "data": {
      "text/html": [
       "<div>\n",
       "<style scoped>\n",
       "    .dataframe tbody tr th:only-of-type {\n",
       "        vertical-align: middle;\n",
       "    }\n",
       "\n",
       "    .dataframe tbody tr th {\n",
       "        vertical-align: top;\n",
       "    }\n",
       "\n",
       "    .dataframe thead th {\n",
       "        text-align: right;\n",
       "    }\n",
       "</style>\n",
       "<table border=\"1\" class=\"dataframe\">\n",
       "  <thead>\n",
       "    <tr style=\"text-align: right;\">\n",
       "      <th></th>\n",
       "      <th>Temp</th>\n",
       "      <th>Event</th>\n",
       "    </tr>\n",
       "  </thead>\n",
       "  <tbody>\n",
       "    <tr>\n",
       "      <th>0</th>\n",
       "      <td>12</td>\n",
       "      <td>Rainy</td>\n",
       "    </tr>\n",
       "    <tr>\n",
       "      <th>1</th>\n",
       "      <td>34</td>\n",
       "      <td>Sunny</td>\n",
       "    </tr>\n",
       "    <tr>\n",
       "      <th>2</th>\n",
       "      <td>56</td>\n",
       "      <td>Sunny</td>\n",
       "    </tr>\n",
       "    <tr>\n",
       "      <th>3</th>\n",
       "      <td>21</td>\n",
       "      <td>Cloudy</td>\n",
       "    </tr>\n",
       "    <tr>\n",
       "      <th>4</th>\n",
       "      <td>0</td>\n",
       "      <td>Snow</td>\n",
       "    </tr>\n",
       "  </tbody>\n",
       "</table>\n",
       "</div>"
      ],
      "text/plain": [
       "   Temp   Event\n",
       "0    12   Rainy\n",
       "1    34   Sunny\n",
       "2    56   Sunny\n",
       "3    21  Cloudy\n",
       "4     0    Snow"
      ]
     },
     "execution_count": 79,
     "metadata": {},
     "output_type": "execute_result"
    }
   ],
   "source": [
    "jdata[[\"Temp\",\"Event\"]]"
   ]
  },
  {
   "cell_type": "code",
   "execution_count": 82,
   "id": "fcc5d91a-3acc-421c-9654-7c364d8efc26",
   "metadata": {},
   "outputs": [
    {
     "data": {
      "text/html": [
       "<div>\n",
       "<style scoped>\n",
       "    .dataframe tbody tr th:only-of-type {\n",
       "        vertical-align: middle;\n",
       "    }\n",
       "\n",
       "    .dataframe tbody tr th {\n",
       "        vertical-align: top;\n",
       "    }\n",
       "\n",
       "    .dataframe thead th {\n",
       "        text-align: right;\n",
       "    }\n",
       "</style>\n",
       "<table border=\"1\" class=\"dataframe\">\n",
       "  <thead>\n",
       "    <tr style=\"text-align: right;\">\n",
       "      <th></th>\n",
       "      <th>Temp</th>\n",
       "      <th>Hum</th>\n",
       "    </tr>\n",
       "  </thead>\n",
       "  <tbody>\n",
       "    <tr>\n",
       "      <th>1</th>\n",
       "      <td>34</td>\n",
       "      <td>33</td>\n",
       "    </tr>\n",
       "    <tr>\n",
       "      <th>2</th>\n",
       "      <td>56</td>\n",
       "      <td>12</td>\n",
       "    </tr>\n",
       "  </tbody>\n",
       "</table>\n",
       "</div>"
      ],
      "text/plain": [
       "   Temp  Hum\n",
       "1    34   33\n",
       "2    56   12"
      ]
     },
     "execution_count": 82,
     "metadata": {},
     "output_type": "execute_result"
    }
   ],
   "source": [
    "jdata.loc[1:2,[\"Temp\",\"Hum\"]]"
   ]
  },
  {
   "cell_type": "code",
   "execution_count": 84,
   "id": "d3f197b2-3e2f-4efa-8675-1c9b07a18d85",
   "metadata": {},
   "outputs": [
    {
     "data": {
      "text/html": [
       "<div>\n",
       "<style scoped>\n",
       "    .dataframe tbody tr th:only-of-type {\n",
       "        vertical-align: middle;\n",
       "    }\n",
       "\n",
       "    .dataframe tbody tr th {\n",
       "        vertical-align: top;\n",
       "    }\n",
       "\n",
       "    .dataframe thead th {\n",
       "        text-align: right;\n",
       "    }\n",
       "</style>\n",
       "<table border=\"1\" class=\"dataframe\">\n",
       "  <thead>\n",
       "    <tr style=\"text-align: right;\">\n",
       "      <th></th>\n",
       "      <th>Temp</th>\n",
       "      <th>Hum</th>\n",
       "    </tr>\n",
       "  </thead>\n",
       "  <tbody>\n",
       "    <tr>\n",
       "      <th>1</th>\n",
       "      <td>34</td>\n",
       "      <td>33</td>\n",
       "    </tr>\n",
       "    <tr>\n",
       "      <th>2</th>\n",
       "      <td>56</td>\n",
       "      <td>12</td>\n",
       "    </tr>\n",
       "  </tbody>\n",
       "</table>\n",
       "</div>"
      ],
      "text/plain": [
       "   Temp  Hum\n",
       "1    34   33\n",
       "2    56   12"
      ]
     },
     "execution_count": 84,
     "metadata": {},
     "output_type": "execute_result"
    }
   ],
   "source": [
    "jdata.iloc[1:3:1,0:2:1]         #iloc[strt_row:last_row:step,strt_col:last_col:step]"
   ]
  },
  {
   "cell_type": "code",
   "execution_count": 86,
   "id": "876551ff-4556-4b68-aed6-938922769371",
   "metadata": {},
   "outputs": [
    {
     "data": {
      "text/html": [
       "<div>\n",
       "<style scoped>\n",
       "    .dataframe tbody tr th:only-of-type {\n",
       "        vertical-align: middle;\n",
       "    }\n",
       "\n",
       "    .dataframe tbody tr th {\n",
       "        vertical-align: top;\n",
       "    }\n",
       "\n",
       "    .dataframe thead th {\n",
       "        text-align: right;\n",
       "    }\n",
       "</style>\n",
       "<table border=\"1\" class=\"dataframe\">\n",
       "  <thead>\n",
       "    <tr style=\"text-align: right;\">\n",
       "      <th></th>\n",
       "      <th>Temp</th>\n",
       "      <th>Hum</th>\n",
       "      <th>Event</th>\n",
       "    </tr>\n",
       "  </thead>\n",
       "  <tbody>\n",
       "    <tr>\n",
       "      <th>2</th>\n",
       "      <td>56</td>\n",
       "      <td>12</td>\n",
       "      <td>Sunny</td>\n",
       "    </tr>\n",
       "  </tbody>\n",
       "</table>\n",
       "</div>"
      ],
      "text/plain": [
       "   Temp  Hum  Event\n",
       "2    56   12  Sunny"
      ]
     },
     "execution_count": 86,
     "metadata": {},
     "output_type": "execute_result"
    }
   ],
   "source": [
    "jdata[jdata[\"Temp\"]>45]"
   ]
  },
  {
   "cell_type": "code",
   "execution_count": 88,
   "id": "16eb661d-8194-4181-94fe-5aff98cf5c82",
   "metadata": {},
   "outputs": [
    {
     "data": {
      "text/html": [
       "<div>\n",
       "<style scoped>\n",
       "    .dataframe tbody tr th:only-of-type {\n",
       "        vertical-align: middle;\n",
       "    }\n",
       "\n",
       "    .dataframe tbody tr th {\n",
       "        vertical-align: top;\n",
       "    }\n",
       "\n",
       "    .dataframe thead th {\n",
       "        text-align: right;\n",
       "    }\n",
       "</style>\n",
       "<table border=\"1\" class=\"dataframe\">\n",
       "  <thead>\n",
       "    <tr style=\"text-align: right;\">\n",
       "      <th></th>\n",
       "      <th>Temp</th>\n",
       "      <th>Hum</th>\n",
       "    </tr>\n",
       "  </thead>\n",
       "  <tbody>\n",
       "    <tr>\n",
       "      <th>count</th>\n",
       "      <td>5.000000</td>\n",
       "      <td>5.000000</td>\n",
       "    </tr>\n",
       "    <tr>\n",
       "      <th>mean</th>\n",
       "      <td>24.600000</td>\n",
       "      <td>24.800000</td>\n",
       "    </tr>\n",
       "    <tr>\n",
       "      <th>std</th>\n",
       "      <td>21.512787</td>\n",
       "      <td>14.237275</td>\n",
       "    </tr>\n",
       "    <tr>\n",
       "      <th>min</th>\n",
       "      <td>0.000000</td>\n",
       "      <td>12.000000</td>\n",
       "    </tr>\n",
       "    <tr>\n",
       "      <th>25%</th>\n",
       "      <td>12.000000</td>\n",
       "      <td>12.000000</td>\n",
       "    </tr>\n",
       "    <tr>\n",
       "      <th>50%</th>\n",
       "      <td>21.000000</td>\n",
       "      <td>22.000000</td>\n",
       "    </tr>\n",
       "    <tr>\n",
       "      <th>75%</th>\n",
       "      <td>34.000000</td>\n",
       "      <td>33.000000</td>\n",
       "    </tr>\n",
       "    <tr>\n",
       "      <th>max</th>\n",
       "      <td>56.000000</td>\n",
       "      <td>45.000000</td>\n",
       "    </tr>\n",
       "  </tbody>\n",
       "</table>\n",
       "</div>"
      ],
      "text/plain": [
       "            Temp        Hum\n",
       "count   5.000000   5.000000\n",
       "mean   24.600000  24.800000\n",
       "std    21.512787  14.237275\n",
       "min     0.000000  12.000000\n",
       "25%    12.000000  12.000000\n",
       "50%    21.000000  22.000000\n",
       "75%    34.000000  33.000000\n",
       "max    56.000000  45.000000"
      ]
     },
     "execution_count": 88,
     "metadata": {},
     "output_type": "execute_result"
    }
   ],
   "source": [
    "jdata.describe()"
   ]
  },
  {
   "cell_type": "code",
   "execution_count": 2,
   "id": "782ff808-ebe6-4585-959d-687371c3abab",
   "metadata": {},
   "outputs": [],
   "source": [
    "import numpy as np\n",
    "import pandas as pd"
   ]
  },
  {
   "cell_type": "code",
   "execution_count": 3,
   "id": "fa389ecf-1d1d-4dfd-a6b2-90e624b5196c",
   "metadata": {},
   "outputs": [],
   "source": [
    "list2=[\n",
    "    [12,45,\"Rainy\",np.nan],\n",
    "    [34,33,\"Sunny\",23]\n",
    "    \n",
    "]"
   ]
  },
  {
   "cell_type": "code",
   "execution_count": 4,
   "id": "c9986d2f-fd91-4ecb-a40e-54fa39ceb550",
   "metadata": {},
   "outputs": [],
   "source": [
    "df7=pd.DataFrame(list2)"
   ]
  },
  {
   "cell_type": "code",
   "execution_count": 5,
   "id": "5b952bc2-1649-4c99-83f7-75248bd4de79",
   "metadata": {},
   "outputs": [
    {
     "data": {
      "text/html": [
       "<div>\n",
       "<style scoped>\n",
       "    .dataframe tbody tr th:only-of-type {\n",
       "        vertical-align: middle;\n",
       "    }\n",
       "\n",
       "    .dataframe tbody tr th {\n",
       "        vertical-align: top;\n",
       "    }\n",
       "\n",
       "    .dataframe thead th {\n",
       "        text-align: right;\n",
       "    }\n",
       "</style>\n",
       "<table border=\"1\" class=\"dataframe\">\n",
       "  <thead>\n",
       "    <tr style=\"text-align: right;\">\n",
       "      <th></th>\n",
       "      <th>0</th>\n",
       "      <th>1</th>\n",
       "      <th>2</th>\n",
       "      <th>3</th>\n",
       "    </tr>\n",
       "  </thead>\n",
       "  <tbody>\n",
       "    <tr>\n",
       "      <th>0</th>\n",
       "      <td>12</td>\n",
       "      <td>45</td>\n",
       "      <td>Rainy</td>\n",
       "      <td>NaN</td>\n",
       "    </tr>\n",
       "    <tr>\n",
       "      <th>1</th>\n",
       "      <td>34</td>\n",
       "      <td>33</td>\n",
       "      <td>Sunny</td>\n",
       "      <td>23.0</td>\n",
       "    </tr>\n",
       "  </tbody>\n",
       "</table>\n",
       "</div>"
      ],
      "text/plain": [
       "    0   1      2     3\n",
       "0  12  45  Rainy   NaN\n",
       "1  34  33  Sunny  23.0"
      ]
     },
     "execution_count": 5,
     "metadata": {},
     "output_type": "execute_result"
    }
   ],
   "source": [
    "df7"
   ]
  },
  {
   "cell_type": "code",
   "execution_count": null,
   "id": "1d112b31-0af7-455c-9fb6-e876d655a7a4",
   "metadata": {},
   "outputs": [],
   "source": [
    "df7[4]=[]"
   ]
  },
  {
   "cell_type": "code",
   "execution_count": 94,
   "id": "8f2e0867-7c21-42a2-9c95-f7f24bb1b203",
   "metadata": {},
   "outputs": [
    {
     "data": {
      "text/plain": [
       "0    0\n",
       "1    0\n",
       "2    0\n",
       "3    1\n",
       "dtype: int64"
      ]
     },
     "execution_count": 94,
     "metadata": {},
     "output_type": "execute_result"
    }
   ],
   "source": [
    "df7.isnull().sum()"
   ]
  },
  {
   "cell_type": "code",
   "execution_count": 98,
   "id": "569251b3-9414-458d-8e19-eff9ce1c89a4",
   "metadata": {},
   "outputs": [
    {
     "data": {
      "text/html": [
       "<div>\n",
       "<style scoped>\n",
       "    .dataframe tbody tr th:only-of-type {\n",
       "        vertical-align: middle;\n",
       "    }\n",
       "\n",
       "    .dataframe tbody tr th {\n",
       "        vertical-align: top;\n",
       "    }\n",
       "\n",
       "    .dataframe thead th {\n",
       "        text-align: right;\n",
       "    }\n",
       "</style>\n",
       "<table border=\"1\" class=\"dataframe\">\n",
       "  <thead>\n",
       "    <tr style=\"text-align: right;\">\n",
       "      <th></th>\n",
       "      <th>0</th>\n",
       "      <th>1</th>\n",
       "      <th>2</th>\n",
       "      <th>3</th>\n",
       "    </tr>\n",
       "  </thead>\n",
       "  <tbody>\n",
       "    <tr>\n",
       "      <th>0</th>\n",
       "      <td>12</td>\n",
       "      <td>45</td>\n",
       "      <td>Rainy</td>\n",
       "      <td>23.0</td>\n",
       "    </tr>\n",
       "    <tr>\n",
       "      <th>1</th>\n",
       "      <td>34</td>\n",
       "      <td>33</td>\n",
       "      <td>Sunny</td>\n",
       "      <td>23.0</td>\n",
       "    </tr>\n",
       "  </tbody>\n",
       "</table>\n",
       "</div>"
      ],
      "text/plain": [
       "    0   1      2     3\n",
       "0  12  45  Rainy  23.0\n",
       "1  34  33  Sunny  23.0"
      ]
     },
     "execution_count": 98,
     "metadata": {},
     "output_type": "execute_result"
    }
   ],
   "source": [
    "df7.fillna(df7[3].median())"
   ]
  },
  {
   "cell_type": "code",
   "execution_count": 99,
   "id": "6729793f-dc01-4c90-b8ed-c7cfe2f4539a",
   "metadata": {},
   "outputs": [
    {
     "data": {
      "text/html": [
       "<div>\n",
       "<style scoped>\n",
       "    .dataframe tbody tr th:only-of-type {\n",
       "        vertical-align: middle;\n",
       "    }\n",
       "\n",
       "    .dataframe tbody tr th {\n",
       "        vertical-align: top;\n",
       "    }\n",
       "\n",
       "    .dataframe thead th {\n",
       "        text-align: right;\n",
       "    }\n",
       "</style>\n",
       "<table border=\"1\" class=\"dataframe\">\n",
       "  <thead>\n",
       "    <tr style=\"text-align: right;\">\n",
       "      <th></th>\n",
       "      <th>0</th>\n",
       "      <th>1</th>\n",
       "      <th>2</th>\n",
       "      <th>3</th>\n",
       "    </tr>\n",
       "  </thead>\n",
       "  <tbody>\n",
       "    <tr>\n",
       "      <th>0</th>\n",
       "      <td>12</td>\n",
       "      <td>45</td>\n",
       "      <td>Rainy</td>\n",
       "      <td>0.0</td>\n",
       "    </tr>\n",
       "    <tr>\n",
       "      <th>1</th>\n",
       "      <td>34</td>\n",
       "      <td>33</td>\n",
       "      <td>Sunny</td>\n",
       "      <td>23.0</td>\n",
       "    </tr>\n",
       "  </tbody>\n",
       "</table>\n",
       "</div>"
      ],
      "text/plain": [
       "    0   1      2     3\n",
       "0  12  45  Rainy   0.0\n",
       "1  34  33  Sunny  23.0"
      ]
     },
     "execution_count": 99,
     "metadata": {},
     "output_type": "execute_result"
    }
   ],
   "source": [
    "df7.fillna(0)"
   ]
  },
  {
   "cell_type": "code",
   "execution_count": null,
   "id": "f85fbd9f-42d6-4490-a556-9f5dae58cc7a",
   "metadata": {},
   "outputs": [],
   "source": []
  }
 ],
 "metadata": {
  "kernelspec": {
   "display_name": "Python 3 (ipykernel)",
   "language": "python",
   "name": "python3"
  },
  "language_info": {
   "codemirror_mode": {
    "name": "ipython",
    "version": 3
   },
   "file_extension": ".py",
   "mimetype": "text/x-python",
   "name": "python",
   "nbconvert_exporter": "python",
   "pygments_lexer": "ipython3",
   "version": "3.12.4"
  }
 },
 "nbformat": 4,
 "nbformat_minor": 5
}
